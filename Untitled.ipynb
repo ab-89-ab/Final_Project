{
 "cells": [
  {
   "cell_type": "code",
   "execution_count": 2,
   "metadata": {},
   "outputs": [],
   "source": [
    "import pandas as pd\n",
    "import numpy as np\n",
    "import seaborn as sns\n",
    "import statsmodels.formula.api as smf\n",
    "import sklearn.metrics\n",
    "from sklearn.metrics import confusion_matrix, accuracy_score\n",
    "from sklearn.model_selection import train_test_split\n",
    "import matplotlib.pyplot as plt"
   ]
  },
  {
   "cell_type": "code",
   "execution_count": 3,
   "metadata": {},
   "outputs": [],
   "source": [
    "# dft=pd.read_csv('~/Downloads/home-credit-default-risk/application_test.csv')\n",
    "dftr=pd.read_csv('~/Downloads/home-credit-default-risk/application_train.csv')\n",
    "dfbb=pd.read_csv('~/Downloads/home-credit-default-risk/bureau_balance.csv')\n",
    "dfb=pd.read_csv('~/Downloads/home-credit-default-risk/bureau.csv')\n",
    "# dfccb=pd.read_csv('~/Downloads/home-credit-default-risk/credit_card_balance.csv')\n",
    "# dfip=pd.read_csv('~/Downloads/home-credit-default-risk/installments_payments.csv')\n",
    "dfpc=pd.read_csv('~/Downloads/home-credit-default-risk/POS_CASH_balance.csv')\n",
    "dfpa=pd.read_csv('~/Downloads/home-credit-default-risk/previous_application.csv')\n",
    "# dfss=pd.read_csv('~/Downloads/home-credit-default-risk/sample_submission.csv')"
   ]
  },
  {
   "cell_type": "code",
   "execution_count": 4,
   "metadata": {},
   "outputs": [
    {
     "data": {
      "text/html": [
       "<div>\n",
       "<style scoped>\n",
       "    .dataframe tbody tr th:only-of-type {\n",
       "        vertical-align: middle;\n",
       "    }\n",
       "\n",
       "    .dataframe tbody tr th {\n",
       "        vertical-align: top;\n",
       "    }\n",
       "\n",
       "    .dataframe thead th {\n",
       "        text-align: right;\n",
       "    }\n",
       "</style>\n",
       "<table border=\"1\" class=\"dataframe\">\n",
       "  <thead>\n",
       "    <tr style=\"text-align: right;\">\n",
       "      <th></th>\n",
       "      <th>SK_ID_CURR</th>\n",
       "      <th>SK_ID_BUREAU</th>\n",
       "      <th>CREDIT_ACTIVE</th>\n",
       "      <th>CREDIT_CURRENCY</th>\n",
       "      <th>DAYS_CREDIT</th>\n",
       "      <th>CREDIT_DAY_OVERDUE</th>\n",
       "      <th>DAYS_CREDIT_ENDDATE</th>\n",
       "      <th>DAYS_ENDDATE_FACT</th>\n",
       "      <th>AMT_CREDIT_MAX_OVERDUE</th>\n",
       "      <th>CNT_CREDIT_PROLONG</th>\n",
       "      <th>AMT_CREDIT_SUM</th>\n",
       "      <th>AMT_CREDIT_SUM_DEBT</th>\n",
       "      <th>AMT_CREDIT_SUM_LIMIT</th>\n",
       "      <th>AMT_CREDIT_SUM_OVERDUE</th>\n",
       "      <th>CREDIT_TYPE</th>\n",
       "      <th>DAYS_CREDIT_UPDATE</th>\n",
       "      <th>AMT_ANNUITY</th>\n",
       "    </tr>\n",
       "  </thead>\n",
       "  <tbody>\n",
       "    <tr>\n",
       "      <th>0</th>\n",
       "      <td>215354</td>\n",
       "      <td>5714462</td>\n",
       "      <td>Closed</td>\n",
       "      <td>currency 1</td>\n",
       "      <td>-497</td>\n",
       "      <td>0</td>\n",
       "      <td>-153.0</td>\n",
       "      <td>-153.0</td>\n",
       "      <td>NaN</td>\n",
       "      <td>0</td>\n",
       "      <td>91323.00</td>\n",
       "      <td>0.00</td>\n",
       "      <td>NaN</td>\n",
       "      <td>0.0</td>\n",
       "      <td>Consumer credit</td>\n",
       "      <td>-131</td>\n",
       "      <td>NaN</td>\n",
       "    </tr>\n",
       "    <tr>\n",
       "      <th>1</th>\n",
       "      <td>215354</td>\n",
       "      <td>5714463</td>\n",
       "      <td>Active</td>\n",
       "      <td>currency 1</td>\n",
       "      <td>-208</td>\n",
       "      <td>0</td>\n",
       "      <td>1075.0</td>\n",
       "      <td>NaN</td>\n",
       "      <td>NaN</td>\n",
       "      <td>0</td>\n",
       "      <td>225000.00</td>\n",
       "      <td>171342.00</td>\n",
       "      <td>NaN</td>\n",
       "      <td>0.0</td>\n",
       "      <td>Credit card</td>\n",
       "      <td>-20</td>\n",
       "      <td>NaN</td>\n",
       "    </tr>\n",
       "    <tr>\n",
       "      <th>2</th>\n",
       "      <td>215354</td>\n",
       "      <td>5714464</td>\n",
       "      <td>Active</td>\n",
       "      <td>currency 1</td>\n",
       "      <td>-203</td>\n",
       "      <td>0</td>\n",
       "      <td>528.0</td>\n",
       "      <td>NaN</td>\n",
       "      <td>NaN</td>\n",
       "      <td>0</td>\n",
       "      <td>464323.50</td>\n",
       "      <td>NaN</td>\n",
       "      <td>NaN</td>\n",
       "      <td>0.0</td>\n",
       "      <td>Consumer credit</td>\n",
       "      <td>-16</td>\n",
       "      <td>NaN</td>\n",
       "    </tr>\n",
       "    <tr>\n",
       "      <th>3</th>\n",
       "      <td>215354</td>\n",
       "      <td>5714465</td>\n",
       "      <td>Active</td>\n",
       "      <td>currency 1</td>\n",
       "      <td>-203</td>\n",
       "      <td>0</td>\n",
       "      <td>NaN</td>\n",
       "      <td>NaN</td>\n",
       "      <td>NaN</td>\n",
       "      <td>0</td>\n",
       "      <td>90000.00</td>\n",
       "      <td>NaN</td>\n",
       "      <td>NaN</td>\n",
       "      <td>0.0</td>\n",
       "      <td>Credit card</td>\n",
       "      <td>-16</td>\n",
       "      <td>NaN</td>\n",
       "    </tr>\n",
       "    <tr>\n",
       "      <th>4</th>\n",
       "      <td>215354</td>\n",
       "      <td>5714466</td>\n",
       "      <td>Active</td>\n",
       "      <td>currency 1</td>\n",
       "      <td>-629</td>\n",
       "      <td>0</td>\n",
       "      <td>1197.0</td>\n",
       "      <td>NaN</td>\n",
       "      <td>77674.5</td>\n",
       "      <td>0</td>\n",
       "      <td>2700000.00</td>\n",
       "      <td>NaN</td>\n",
       "      <td>NaN</td>\n",
       "      <td>0.0</td>\n",
       "      <td>Consumer credit</td>\n",
       "      <td>-21</td>\n",
       "      <td>NaN</td>\n",
       "    </tr>\n",
       "    <tr>\n",
       "      <th>5</th>\n",
       "      <td>215354</td>\n",
       "      <td>5714467</td>\n",
       "      <td>Active</td>\n",
       "      <td>currency 1</td>\n",
       "      <td>-273</td>\n",
       "      <td>0</td>\n",
       "      <td>27460.0</td>\n",
       "      <td>NaN</td>\n",
       "      <td>0.0</td>\n",
       "      <td>0</td>\n",
       "      <td>180000.00</td>\n",
       "      <td>71017.38</td>\n",
       "      <td>108982.62</td>\n",
       "      <td>0.0</td>\n",
       "      <td>Credit card</td>\n",
       "      <td>-31</td>\n",
       "      <td>NaN</td>\n",
       "    </tr>\n",
       "    <tr>\n",
       "      <th>6</th>\n",
       "      <td>215354</td>\n",
       "      <td>5714468</td>\n",
       "      <td>Active</td>\n",
       "      <td>currency 1</td>\n",
       "      <td>-43</td>\n",
       "      <td>0</td>\n",
       "      <td>79.0</td>\n",
       "      <td>NaN</td>\n",
       "      <td>0.0</td>\n",
       "      <td>0</td>\n",
       "      <td>42103.80</td>\n",
       "      <td>42103.80</td>\n",
       "      <td>0.00</td>\n",
       "      <td>0.0</td>\n",
       "      <td>Consumer credit</td>\n",
       "      <td>-22</td>\n",
       "      <td>NaN</td>\n",
       "    </tr>\n",
       "    <tr>\n",
       "      <th>7</th>\n",
       "      <td>162297</td>\n",
       "      <td>5714469</td>\n",
       "      <td>Closed</td>\n",
       "      <td>currency 1</td>\n",
       "      <td>-1896</td>\n",
       "      <td>0</td>\n",
       "      <td>-1684.0</td>\n",
       "      <td>-1710.0</td>\n",
       "      <td>14985.0</td>\n",
       "      <td>0</td>\n",
       "      <td>76878.45</td>\n",
       "      <td>0.00</td>\n",
       "      <td>0.00</td>\n",
       "      <td>0.0</td>\n",
       "      <td>Consumer credit</td>\n",
       "      <td>-1710</td>\n",
       "      <td>NaN</td>\n",
       "    </tr>\n",
       "    <tr>\n",
       "      <th>8</th>\n",
       "      <td>162297</td>\n",
       "      <td>5714470</td>\n",
       "      <td>Closed</td>\n",
       "      <td>currency 1</td>\n",
       "      <td>-1146</td>\n",
       "      <td>0</td>\n",
       "      <td>-811.0</td>\n",
       "      <td>-840.0</td>\n",
       "      <td>0.0</td>\n",
       "      <td>0</td>\n",
       "      <td>103007.70</td>\n",
       "      <td>0.00</td>\n",
       "      <td>0.00</td>\n",
       "      <td>0.0</td>\n",
       "      <td>Consumer credit</td>\n",
       "      <td>-840</td>\n",
       "      <td>NaN</td>\n",
       "    </tr>\n",
       "    <tr>\n",
       "      <th>9</th>\n",
       "      <td>162297</td>\n",
       "      <td>5714471</td>\n",
       "      <td>Active</td>\n",
       "      <td>currency 1</td>\n",
       "      <td>-1146</td>\n",
       "      <td>0</td>\n",
       "      <td>-484.0</td>\n",
       "      <td>NaN</td>\n",
       "      <td>0.0</td>\n",
       "      <td>0</td>\n",
       "      <td>4500.00</td>\n",
       "      <td>0.00</td>\n",
       "      <td>0.00</td>\n",
       "      <td>0.0</td>\n",
       "      <td>Credit card</td>\n",
       "      <td>-690</td>\n",
       "      <td>NaN</td>\n",
       "    </tr>\n",
       "  </tbody>\n",
       "</table>\n",
       "</div>"
      ],
      "text/plain": [
       "   SK_ID_CURR  SK_ID_BUREAU CREDIT_ACTIVE CREDIT_CURRENCY  DAYS_CREDIT  \\\n",
       "0      215354       5714462        Closed      currency 1         -497   \n",
       "1      215354       5714463        Active      currency 1         -208   \n",
       "2      215354       5714464        Active      currency 1         -203   \n",
       "3      215354       5714465        Active      currency 1         -203   \n",
       "4      215354       5714466        Active      currency 1         -629   \n",
       "5      215354       5714467        Active      currency 1         -273   \n",
       "6      215354       5714468        Active      currency 1          -43   \n",
       "7      162297       5714469        Closed      currency 1        -1896   \n",
       "8      162297       5714470        Closed      currency 1        -1146   \n",
       "9      162297       5714471        Active      currency 1        -1146   \n",
       "\n",
       "   CREDIT_DAY_OVERDUE  DAYS_CREDIT_ENDDATE  DAYS_ENDDATE_FACT  \\\n",
       "0                   0               -153.0             -153.0   \n",
       "1                   0               1075.0                NaN   \n",
       "2                   0                528.0                NaN   \n",
       "3                   0                  NaN                NaN   \n",
       "4                   0               1197.0                NaN   \n",
       "5                   0              27460.0                NaN   \n",
       "6                   0                 79.0                NaN   \n",
       "7                   0              -1684.0            -1710.0   \n",
       "8                   0               -811.0             -840.0   \n",
       "9                   0               -484.0                NaN   \n",
       "\n",
       "   AMT_CREDIT_MAX_OVERDUE  CNT_CREDIT_PROLONG  AMT_CREDIT_SUM  \\\n",
       "0                     NaN                   0        91323.00   \n",
       "1                     NaN                   0       225000.00   \n",
       "2                     NaN                   0       464323.50   \n",
       "3                     NaN                   0        90000.00   \n",
       "4                 77674.5                   0      2700000.00   \n",
       "5                     0.0                   0       180000.00   \n",
       "6                     0.0                   0        42103.80   \n",
       "7                 14985.0                   0        76878.45   \n",
       "8                     0.0                   0       103007.70   \n",
       "9                     0.0                   0         4500.00   \n",
       "\n",
       "   AMT_CREDIT_SUM_DEBT  AMT_CREDIT_SUM_LIMIT  AMT_CREDIT_SUM_OVERDUE  \\\n",
       "0                 0.00                   NaN                     0.0   \n",
       "1            171342.00                   NaN                     0.0   \n",
       "2                  NaN                   NaN                     0.0   \n",
       "3                  NaN                   NaN                     0.0   \n",
       "4                  NaN                   NaN                     0.0   \n",
       "5             71017.38             108982.62                     0.0   \n",
       "6             42103.80                  0.00                     0.0   \n",
       "7                 0.00                  0.00                     0.0   \n",
       "8                 0.00                  0.00                     0.0   \n",
       "9                 0.00                  0.00                     0.0   \n",
       "\n",
       "       CREDIT_TYPE  DAYS_CREDIT_UPDATE  AMT_ANNUITY  \n",
       "0  Consumer credit                -131          NaN  \n",
       "1      Credit card                 -20          NaN  \n",
       "2  Consumer credit                 -16          NaN  \n",
       "3      Credit card                 -16          NaN  \n",
       "4  Consumer credit                 -21          NaN  \n",
       "5      Credit card                 -31          NaN  \n",
       "6  Consumer credit                 -22          NaN  \n",
       "7  Consumer credit               -1710          NaN  \n",
       "8  Consumer credit                -840          NaN  \n",
       "9      Credit card                -690          NaN  "
      ]
     },
     "execution_count": 4,
     "metadata": {},
     "output_type": "execute_result"
    }
   ],
   "source": [
    "dfb.head(10)"
   ]
  },
  {
   "cell_type": "code",
   "execution_count": 5,
   "metadata": {},
   "outputs": [
    {
     "data": {
      "text/plain": [
       "<AxesSubplot:>"
      ]
     },
     "execution_count": 5,
     "metadata": {},
     "output_type": "execute_result"
    },
    {
     "data": {
      "image/png": "[encoded data removed]",
      "text/plain": [
       "<Figure size 432x288 with 2 Axes>"
      ]
     },
     "metadata": {
      "needs_background": "light"
     },
     "output_type": "display_data"
    }
   ],
   "source": [
    "sns.heatmap(dfb.isnull())"
   ]
  },
  {
   "cell_type": "code",
   "execution_count": 6,
   "metadata": {},
   "outputs": [],
   "source": [
    "# pandas.options.display.float_format = '{:,.2f}'.format"
   ]
  },
  {
   "cell_type": "code",
   "execution_count": 7,
   "metadata": {},
   "outputs": [
    {
     "data": {
      "text/plain": [
       "['SK_ID_CURR',\n",
       " 'TARGET',\n",
       " 'NAME_CONTRACT_TYPE',\n",
       " 'CODE_GENDER',\n",
       " 'FLAG_OWN_CAR',\n",
       " 'FLAG_OWN_REALTY',\n",
       " 'CNT_CHILDREN',\n",
       " 'AMT_INCOME_TOTAL',\n",
       " 'AMT_CREDIT',\n",
       " 'AMT_ANNUITY',\n",
       " 'AMT_GOODS_PRICE',\n",
       " 'NAME_TYPE_SUITE',\n",
       " 'NAME_INCOME_TYPE',\n",
       " 'NAME_EDUCATION_TYPE',\n",
       " 'NAME_FAMILY_STATUS',\n",
       " 'NAME_HOUSING_TYPE',\n",
       " 'REGION_POPULATION_RELATIVE',\n",
       " 'DAYS_BIRTH',\n",
       " 'DAYS_EMPLOYED',\n",
       " 'DAYS_REGISTRATION',\n",
       " 'DAYS_ID_PUBLISH',\n",
       " 'OWN_CAR_AGE',\n",
       " 'FLAG_MOBIL',\n",
       " 'FLAG_EMP_PHONE',\n",
       " 'FLAG_WORK_PHONE',\n",
       " 'FLAG_CONT_MOBILE',\n",
       " 'FLAG_PHONE',\n",
       " 'FLAG_EMAIL',\n",
       " 'OCCUPATION_TYPE',\n",
       " 'CNT_FAM_MEMBERS',\n",
       " 'REGION_RATING_CLIENT',\n",
       " 'REGION_RATING_CLIENT_W_CITY',\n",
       " 'WEEKDAY_APPR_PROCESS_START',\n",
       " 'HOUR_APPR_PROCESS_START',\n",
       " 'REG_REGION_NOT_LIVE_REGION',\n",
       " 'REG_REGION_NOT_WORK_REGION',\n",
       " 'LIVE_REGION_NOT_WORK_REGION',\n",
       " 'REG_CITY_NOT_LIVE_CITY',\n",
       " 'REG_CITY_NOT_WORK_CITY',\n",
       " 'LIVE_CITY_NOT_WORK_CITY',\n",
       " 'ORGANIZATION_TYPE',\n",
       " 'EXT_SOURCE_1',\n",
       " 'EXT_SOURCE_2',\n",
       " 'EXT_SOURCE_3',\n",
       " 'APARTMENTS_AVG',\n",
       " 'BASEMENTAREA_AVG',\n",
       " 'YEARS_BEGINEXPLUATATION_AVG',\n",
       " 'YEARS_BUILD_AVG',\n",
       " 'COMMONAREA_AVG',\n",
       " 'ELEVATORS_AVG',\n",
       " 'ENTRANCES_AVG',\n",
       " 'FLOORSMAX_AVG',\n",
       " 'FLOORSMIN_AVG',\n",
       " 'LANDAREA_AVG',\n",
       " 'LIVINGAPARTMENTS_AVG',\n",
       " 'LIVINGAREA_AVG',\n",
       " 'NONLIVINGAPARTMENTS_AVG',\n",
       " 'NONLIVINGAREA_AVG',\n",
       " 'APARTMENTS_MODE',\n",
       " 'BASEMENTAREA_MODE',\n",
       " 'YEARS_BEGINEXPLUATATION_MODE',\n",
       " 'YEARS_BUILD_MODE',\n",
       " 'COMMONAREA_MODE',\n",
       " 'ELEVATORS_MODE',\n",
       " 'ENTRANCES_MODE',\n",
       " 'FLOORSMAX_MODE',\n",
       " 'FLOORSMIN_MODE',\n",
       " 'LANDAREA_MODE',\n",
       " 'LIVINGAPARTMENTS_MODE',\n",
       " 'LIVINGAREA_MODE',\n",
       " 'NONLIVINGAPARTMENTS_MODE',\n",
       " 'NONLIVINGAREA_MODE',\n",
       " 'APARTMENTS_MEDI',\n",
       " 'BASEMENTAREA_MEDI',\n",
       " 'YEARS_BEGINEXPLUATATION_MEDI',\n",
       " 'YEARS_BUILD_MEDI',\n",
       " 'COMMONAREA_MEDI',\n",
       " 'ELEVATORS_MEDI',\n",
       " 'ENTRANCES_MEDI',\n",
       " 'FLOORSMAX_MEDI',\n",
       " 'FLOORSMIN_MEDI',\n",
       " 'LANDAREA_MEDI',\n",
       " 'LIVINGAPARTMENTS_MEDI',\n",
       " 'LIVINGAREA_MEDI',\n",
       " 'NONLIVINGAPARTMENTS_MEDI',\n",
       " 'NONLIVINGAREA_MEDI',\n",
       " 'FONDKAPREMONT_MODE',\n",
       " 'HOUSETYPE_MODE',\n",
       " 'TOTALAREA_MODE',\n",
       " 'WALLSMATERIAL_MODE',\n",
       " 'EMERGENCYSTATE_MODE',\n",
       " 'OBS_30_CNT_SOCIAL_CIRCLE',\n",
       " 'DEF_30_CNT_SOCIAL_CIRCLE',\n",
       " 'OBS_60_CNT_SOCIAL_CIRCLE',\n",
       " 'DEF_60_CNT_SOCIAL_CIRCLE',\n",
       " 'DAYS_LAST_PHONE_CHANGE',\n",
       " 'FLAG_DOCUMENT_2',\n",
       " 'FLAG_DOCUMENT_3',\n",
       " 'FLAG_DOCUMENT_4',\n",
       " 'FLAG_DOCUMENT_5',\n",
       " 'FLAG_DOCUMENT_6',\n",
       " 'FLAG_DOCUMENT_7',\n",
       " 'FLAG_DOCUMENT_8',\n",
       " 'FLAG_DOCUMENT_9',\n",
       " 'FLAG_DOCUMENT_10',\n",
       " 'FLAG_DOCUMENT_11',\n",
       " 'FLAG_DOCUMENT_12',\n",
       " 'FLAG_DOCUMENT_13',\n",
       " 'FLAG_DOCUMENT_14',\n",
       " 'FLAG_DOCUMENT_15',\n",
       " 'FLAG_DOCUMENT_16',\n",
       " 'FLAG_DOCUMENT_17',\n",
       " 'FLAG_DOCUMENT_18',\n",
       " 'FLAG_DOCUMENT_19',\n",
       " 'FLAG_DOCUMENT_20',\n",
       " 'FLAG_DOCUMENT_21',\n",
       " 'AMT_REQ_CREDIT_BUREAU_HOUR',\n",
       " 'AMT_REQ_CREDIT_BUREAU_DAY',\n",
       " 'AMT_REQ_CREDIT_BUREAU_WEEK',\n",
       " 'AMT_REQ_CREDIT_BUREAU_MON',\n",
       " 'AMT_REQ_CREDIT_BUREAU_QRT',\n",
       " 'AMT_REQ_CREDIT_BUREAU_YEAR']"
      ]
     },
     "execution_count": 7,
     "metadata": {},
     "output_type": "execute_result"
    }
   ],
   "source": [
    "dftr.columns.tolist()"
   ]
  },
  {
   "cell_type": "code",
   "execution_count": null,
   "metadata": {},
   "outputs": [],
   "source": []
  },
  {
   "cell_type": "code",
   "execution_count": 8,
   "metadata": {},
   "outputs": [],
   "source": [
    "dftr.drop(['NAME_TYPE_SUITE','FLAG_PHONE','HOUR_APPR_PROCESS_START', 'REG_REGION_NOT_WORK_REGION','LIVE_REGION_NOT_WORK_REGION', 'REG_CITY_NOT_WORK_CITY', 'LIVE_CITY_NOT_WORK_CITY','EXT_SOURCE_1','EXT_SOURCE_2','EXT_SOURCE_3','BASEMENTAREA_AVG','YEARS_BEGINEXPLUATATION_AVG','ELEVATORS_AVG',\n",
    " 'ENTRANCES_AVG',\n",
    " 'FLOORSMAX_AVG',\n",
    " 'FLOORSMIN_AVG',\n",
    " 'LANDAREA_AVG',\n",
    " 'LIVINGAPARTMENTS_AVG',\n",
    " 'LIVINGAREA_AVG',\n",
    " 'NONLIVINGAPARTMENTS_AVG',\n",
    " 'NONLIVINGAREA_AVG','BASEMENTAREA_MODE',\n",
    " 'YEARS_BEGINEXPLUATATION_MODE','ELEVATORS_MODE',\n",
    " 'ENTRANCES_MODE',\n",
    " 'FLOORSMAX_MODE',\n",
    " 'FLOORSMIN_MODE',\n",
    " 'LANDAREA_MODE',\n",
    " 'LIVINGAPARTMENTS_MODE',\n",
    " 'LIVINGAREA_MODE',\n",
    " 'NONLIVINGAPARTMENTS_MODE',\n",
    " 'NONLIVINGAREA_MODE', 'BASEMENTAREA_MEDI',\n",
    " 'YEARS_BEGINEXPLUATATION_MEDI','ELEVATORS_MEDI',\n",
    " 'ENTRANCES_MEDI',\n",
    " 'FLOORSMAX_MEDI',\n",
    " 'FLOORSMIN_MEDI',\n",
    " 'LANDAREA_MEDI',\n",
    " 'LIVINGAPARTMENTS_MEDI',\n",
    " 'LIVINGAREA_MEDI',\n",
    " 'NONLIVINGAPARTMENTS_MEDI',\n",
    " 'NONLIVINGAREA_MEDI',\n",
    " 'FONDKAPREMONT_MODE','TOTALAREA_MODE',\n",
    " 'WALLSMATERIAL_MODE',\n",
    " 'EMERGENCYSTATE_MODE','AMT_REQ_CREDIT_BUREAU_HOUR',\n",
    " 'AMT_REQ_CREDIT_BUREAU_DAY',\n",
    " 'AMT_REQ_CREDIT_BUREAU_WEEK',\n",
    " 'AMT_REQ_CREDIT_BUREAU_MON',\n",
    " 'AMT_REQ_CREDIT_BUREAU_QRT',\n",
    " 'AMT_REQ_CREDIT_BUREAU_YEAR'], axis = 1, inplace=True)"
   ]
  },
  {
   "cell_type": "code",
   "execution_count": 9,
   "metadata": {},
   "outputs": [
    {
     "name": "stdout",
     "output_type": "stream",
     "text": [
      "<class 'pandas.core.frame.DataFrame'>\n",
      "RangeIndex: 307511 entries, 0 to 307510\n",
      "Data columns (total 69 columns):\n",
      " #   Column                       Non-Null Count   Dtype  \n",
      "---  ------                       --------------   -----  \n",
      " 0   SK_ID_CURR                   307511 non-null  int64  \n",
      " 1   TARGET                       307511 non-null  int64  \n",
      " 2   NAME_CONTRACT_TYPE           307511 non-null  object \n",
      " 3   CODE_GENDER                  307511 non-null  object \n",
      " 4   FLAG_OWN_CAR                 307511 non-null  object \n",
      " 5   FLAG_OWN_REALTY              307511 non-null  object \n",
      " 6   CNT_CHILDREN                 307511 non-null  int64  \n",
      " 7   AMT_INCOME_TOTAL             307511 non-null  float64\n",
      " 8   AMT_CREDIT                   307511 non-null  float64\n",
      " 9   AMT_ANNUITY                  307499 non-null  float64\n",
      " 10  AMT_GOODS_PRICE              307233 non-null  float64\n",
      " 11  NAME_INCOME_TYPE             307511 non-null  object \n",
      " 12  NAME_EDUCATION_TYPE          307511 non-null  object \n",
      " 13  NAME_FAMILY_STATUS           307511 non-null  object \n",
      " 14  NAME_HOUSING_TYPE            307511 non-null  object \n",
      " 15  REGION_POPULATION_RELATIVE   307511 non-null  float64\n",
      " 16  DAYS_BIRTH                   307511 non-null  int64  \n",
      " 17  DAYS_EMPLOYED                307511 non-null  int64  \n",
      " 18  DAYS_REGISTRATION            307511 non-null  float64\n",
      " 19  DAYS_ID_PUBLISH              307511 non-null  int64  \n",
      " 20  OWN_CAR_AGE                  104582 non-null  float64\n",
      " 21  FLAG_MOBIL                   307511 non-null  int64  \n",
      " 22  FLAG_EMP_PHONE               307511 non-null  int64  \n",
      " 23  FLAG_WORK_PHONE              307511 non-null  int64  \n",
      " 24  FLAG_CONT_MOBILE             307511 non-null  int64  \n",
      " 25  FLAG_EMAIL                   307511 non-null  int64  \n",
      " 26  OCCUPATION_TYPE              211120 non-null  object \n",
      " 27  CNT_FAM_MEMBERS              307509 non-null  float64\n",
      " 28  REGION_RATING_CLIENT         307511 non-null  int64  \n",
      " 29  REGION_RATING_CLIENT_W_CITY  307511 non-null  int64  \n",
      " 30  WEEKDAY_APPR_PROCESS_START   307511 non-null  object \n",
      " 31  REG_REGION_NOT_LIVE_REGION   307511 non-null  int64  \n",
      " 32  REG_CITY_NOT_LIVE_CITY       307511 non-null  int64  \n",
      " 33  ORGANIZATION_TYPE            307511 non-null  object \n",
      " 34  APARTMENTS_AVG               151450 non-null  float64\n",
      " 35  YEARS_BUILD_AVG              103023 non-null  float64\n",
      " 36  COMMONAREA_AVG               92646 non-null   float64\n",
      " 37  APARTMENTS_MODE              151450 non-null  float64\n",
      " 38  YEARS_BUILD_MODE             103023 non-null  float64\n",
      " 39  COMMONAREA_MODE              92646 non-null   float64\n",
      " 40  APARTMENTS_MEDI              151450 non-null  float64\n",
      " 41  YEARS_BUILD_MEDI             103023 non-null  float64\n",
      " 42  COMMONAREA_MEDI              92646 non-null   float64\n",
      " 43  HOUSETYPE_MODE               153214 non-null  object \n",
      " 44  OBS_30_CNT_SOCIAL_CIRCLE     306490 non-null  float64\n",
      " 45  DEF_30_CNT_SOCIAL_CIRCLE     306490 non-null  float64\n",
      " 46  OBS_60_CNT_SOCIAL_CIRCLE     306490 non-null  float64\n",
      " 47  DEF_60_CNT_SOCIAL_CIRCLE     306490 non-null  float64\n",
      " 48  DAYS_LAST_PHONE_CHANGE       307510 non-null  float64\n",
      " 49  FLAG_DOCUMENT_2              307511 non-null  int64  \n",
      " 50  FLAG_DOCUMENT_3              307511 non-null  int64  \n",
      " 51  FLAG_DOCUMENT_4              307511 non-null  int64  \n",
      " 52  FLAG_DOCUMENT_5              307511 non-null  int64  \n",
      " 53  FLAG_DOCUMENT_6              307511 non-null  int64  \n",
      " 54  FLAG_DOCUMENT_7              307511 non-null  int64  \n",
      " 55  FLAG_DOCUMENT_8              307511 non-null  int64  \n",
      " 56  FLAG_DOCUMENT_9              307511 non-null  int64  \n",
      " 57  FLAG_DOCUMENT_10             307511 non-null  int64  \n",
      " 58  FLAG_DOCUMENT_11             307511 non-null  int64  \n",
      " 59  FLAG_DOCUMENT_12             307511 non-null  int64  \n",
      " 60  FLAG_DOCUMENT_13             307511 non-null  int64  \n",
      " 61  FLAG_DOCUMENT_14             307511 non-null  int64  \n",
      " 62  FLAG_DOCUMENT_15             307511 non-null  int64  \n",
      " 63  FLAG_DOCUMENT_16             307511 non-null  int64  \n",
      " 64  FLAG_DOCUMENT_17             307511 non-null  int64  \n",
      " 65  FLAG_DOCUMENT_18             307511 non-null  int64  \n",
      " 66  FLAG_DOCUMENT_19             307511 non-null  int64  \n",
      " 67  FLAG_DOCUMENT_20             307511 non-null  int64  \n",
      " 68  FLAG_DOCUMENT_21             307511 non-null  int64  \n",
      "dtypes: float64(22), int64(35), object(12)\n",
      "memory usage: 161.9+ MB\n"
     ]
    }
   ],
   "source": [
    "dftr.info()"
   ]
  },
  {
   "cell_type": "code",
   "execution_count": 10,
   "metadata": {
    "scrolled": false
   },
   "outputs": [],
   "source": [
    "dftr[dftr['CODE_GENDER']=='XNA']\n",
    "dftr.drop(dftr.index[[35657,38566,83382,189640]],inplace=True)"
   ]
  },
  {
   "cell_type": "code",
   "execution_count": 11,
   "metadata": {},
   "outputs": [
    {
     "data": {
      "text/html": [
       "<div>\n",
       "<style scoped>\n",
       "    .dataframe tbody tr th:only-of-type {\n",
       "        vertical-align: middle;\n",
       "    }\n",
       "\n",
       "    .dataframe tbody tr th {\n",
       "        vertical-align: top;\n",
       "    }\n",
       "\n",
       "    .dataframe thead th {\n",
       "        text-align: right;\n",
       "    }\n",
       "</style>\n",
       "<table border=\"1\" class=\"dataframe\">\n",
       "  <thead>\n",
       "    <tr style=\"text-align: right;\">\n",
       "      <th></th>\n",
       "      <th>SK_ID_CURR</th>\n",
       "      <th>TARGET</th>\n",
       "      <th>NAME_CONTRACT_TYPE</th>\n",
       "      <th>CODE_GENDER</th>\n",
       "      <th>FLAG_OWN_CAR</th>\n",
       "      <th>FLAG_OWN_REALTY</th>\n",
       "      <th>CNT_CHILDREN</th>\n",
       "      <th>AMT_INCOME_TOTAL</th>\n",
       "      <th>AMT_CREDIT</th>\n",
       "      <th>AMT_ANNUITY</th>\n",
       "      <th>...</th>\n",
       "      <th>FLAG_DOCUMENT_12</th>\n",
       "      <th>FLAG_DOCUMENT_13</th>\n",
       "      <th>FLAG_DOCUMENT_14</th>\n",
       "      <th>FLAG_DOCUMENT_15</th>\n",
       "      <th>FLAG_DOCUMENT_16</th>\n",
       "      <th>FLAG_DOCUMENT_17</th>\n",
       "      <th>FLAG_DOCUMENT_18</th>\n",
       "      <th>FLAG_DOCUMENT_19</th>\n",
       "      <th>FLAG_DOCUMENT_20</th>\n",
       "      <th>FLAG_DOCUMENT_21</th>\n",
       "    </tr>\n",
       "  </thead>\n",
       "  <tbody>\n",
       "  </tbody>\n",
       "</table>\n",
       "<p>0 rows × 69 columns</p>\n",
       "</div>"
      ],
      "text/plain": [
       "Empty DataFrame\n",
       "Columns: [SK_ID_CURR, TARGET, NAME_CONTRACT_TYPE, CODE_GENDER, FLAG_OWN_CAR, FLAG_OWN_REALTY, CNT_CHILDREN, AMT_INCOME_TOTAL, AMT_CREDIT, AMT_ANNUITY, AMT_GOODS_PRICE, NAME_INCOME_TYPE, NAME_EDUCATION_TYPE, NAME_FAMILY_STATUS, NAME_HOUSING_TYPE, REGION_POPULATION_RELATIVE, DAYS_BIRTH, DAYS_EMPLOYED, DAYS_REGISTRATION, DAYS_ID_PUBLISH, OWN_CAR_AGE, FLAG_MOBIL, FLAG_EMP_PHONE, FLAG_WORK_PHONE, FLAG_CONT_MOBILE, FLAG_EMAIL, OCCUPATION_TYPE, CNT_FAM_MEMBERS, REGION_RATING_CLIENT, REGION_RATING_CLIENT_W_CITY, WEEKDAY_APPR_PROCESS_START, REG_REGION_NOT_LIVE_REGION, REG_CITY_NOT_LIVE_CITY, ORGANIZATION_TYPE, APARTMENTS_AVG, YEARS_BUILD_AVG, COMMONAREA_AVG, APARTMENTS_MODE, YEARS_BUILD_MODE, COMMONAREA_MODE, APARTMENTS_MEDI, YEARS_BUILD_MEDI, COMMONAREA_MEDI, HOUSETYPE_MODE, OBS_30_CNT_SOCIAL_CIRCLE, DEF_30_CNT_SOCIAL_CIRCLE, OBS_60_CNT_SOCIAL_CIRCLE, DEF_60_CNT_SOCIAL_CIRCLE, DAYS_LAST_PHONE_CHANGE, FLAG_DOCUMENT_2, FLAG_DOCUMENT_3, FLAG_DOCUMENT_4, FLAG_DOCUMENT_5, FLAG_DOCUMENT_6, FLAG_DOCUMENT_7, FLAG_DOCUMENT_8, FLAG_DOCUMENT_9, FLAG_DOCUMENT_10, FLAG_DOCUMENT_11, FLAG_DOCUMENT_12, FLAG_DOCUMENT_13, FLAG_DOCUMENT_14, FLAG_DOCUMENT_15, FLAG_DOCUMENT_16, FLAG_DOCUMENT_17, FLAG_DOCUMENT_18, FLAG_DOCUMENT_19, FLAG_DOCUMENT_20, FLAG_DOCUMENT_21]\n",
       "Index: []\n",
       "\n",
       "[0 rows x 69 columns]"
      ]
     },
     "execution_count": 11,
     "metadata": {},
     "output_type": "execute_result"
    }
   ],
   "source": [
    "dftr[dftr['CODE_GENDER']=='XNA']"
   ]
  },
  {
   "cell_type": "code",
   "execution_count": 12,
   "metadata": {},
   "outputs": [],
   "source": [
    "dftr['age']= (dftr['DAYS_BIRTH']/-365).round(0)"
   ]
  },
  {
   "cell_type": "code",
   "execution_count": 13,
   "metadata": {},
   "outputs": [
    {
     "data": {
      "text/plain": [
       "<AxesSubplot:>"
      ]
     },
     "execution_count": 13,
     "metadata": {},
     "output_type": "execute_result"
    },
    {
     "data": {
      "image/png": "[encoded data removed]",
      "text/plain": [
       "<Figure size 432x288 with 2 Axes>"
      ]
     },
     "metadata": {
      "needs_background": "light"
     },
     "output_type": "display_data"
    }
   ],
   "source": [
    "sns.heatmap(dftr.isnull())"
   ]
  },
  {
   "cell_type": "code",
   "execution_count": 14,
   "metadata": {},
   "outputs": [
    {
     "data": {
      "text/html": [
       "<div>\n",
       "<style scoped>\n",
       "    .dataframe tbody tr th:only-of-type {\n",
       "        vertical-align: middle;\n",
       "    }\n",
       "\n",
       "    .dataframe tbody tr th {\n",
       "        vertical-align: top;\n",
       "    }\n",
       "\n",
       "    .dataframe thead th {\n",
       "        text-align: right;\n",
       "    }\n",
       "</style>\n",
       "<table border=\"1\" class=\"dataframe\">\n",
       "  <thead>\n",
       "    <tr style=\"text-align: right;\">\n",
       "      <th></th>\n",
       "      <th>SK_ID_BUREAU</th>\n",
       "      <th>MONTHS_BALANCE</th>\n",
       "      <th>STATUS</th>\n",
       "    </tr>\n",
       "  </thead>\n",
       "  <tbody>\n",
       "    <tr>\n",
       "      <th>0</th>\n",
       "      <td>5715448</td>\n",
       "      <td>0</td>\n",
       "      <td>C</td>\n",
       "    </tr>\n",
       "    <tr>\n",
       "      <th>1</th>\n",
       "      <td>5715448</td>\n",
       "      <td>-1</td>\n",
       "      <td>C</td>\n",
       "    </tr>\n",
       "    <tr>\n",
       "      <th>2</th>\n",
       "      <td>5715448</td>\n",
       "      <td>-2</td>\n",
       "      <td>C</td>\n",
       "    </tr>\n",
       "    <tr>\n",
       "      <th>3</th>\n",
       "      <td>5715448</td>\n",
       "      <td>-3</td>\n",
       "      <td>C</td>\n",
       "    </tr>\n",
       "    <tr>\n",
       "      <th>4</th>\n",
       "      <td>5715448</td>\n",
       "      <td>-4</td>\n",
       "      <td>C</td>\n",
       "    </tr>\n",
       "    <tr>\n",
       "      <th>5</th>\n",
       "      <td>5715448</td>\n",
       "      <td>-5</td>\n",
       "      <td>C</td>\n",
       "    </tr>\n",
       "    <tr>\n",
       "      <th>6</th>\n",
       "      <td>5715448</td>\n",
       "      <td>-6</td>\n",
       "      <td>C</td>\n",
       "    </tr>\n",
       "    <tr>\n",
       "      <th>7</th>\n",
       "      <td>5715448</td>\n",
       "      <td>-7</td>\n",
       "      <td>C</td>\n",
       "    </tr>\n",
       "    <tr>\n",
       "      <th>8</th>\n",
       "      <td>5715448</td>\n",
       "      <td>-8</td>\n",
       "      <td>C</td>\n",
       "    </tr>\n",
       "    <tr>\n",
       "      <th>9</th>\n",
       "      <td>5715448</td>\n",
       "      <td>-9</td>\n",
       "      <td>0</td>\n",
       "    </tr>\n",
       "  </tbody>\n",
       "</table>\n",
       "</div>"
      ],
      "text/plain": [
       "   SK_ID_BUREAU  MONTHS_BALANCE STATUS\n",
       "0       5715448               0      C\n",
       "1       5715448              -1      C\n",
       "2       5715448              -2      C\n",
       "3       5715448              -3      C\n",
       "4       5715448              -4      C\n",
       "5       5715448              -5      C\n",
       "6       5715448              -6      C\n",
       "7       5715448              -7      C\n",
       "8       5715448              -8      C\n",
       "9       5715448              -9      0"
      ]
     },
     "execution_count": 14,
     "metadata": {},
     "output_type": "execute_result"
    }
   ],
   "source": [
    "dfbb.head(10)"
   ]
  },
  {
   "cell_type": "code",
   "execution_count": 15,
   "metadata": {
    "scrolled": true
   },
   "outputs": [],
   "source": [
    "defaulted=dftr[dftr['TARGET']==1]\n"
   ]
  },
  {
   "cell_type": "code",
   "execution_count": 16,
   "metadata": {},
   "outputs": [],
   "source": [
    "defaulted.to_csv(r'~/Desktop/dfd.csv')"
   ]
  },
  {
   "cell_type": "code",
   "execution_count": 17,
   "metadata": {},
   "outputs": [],
   "source": [
    "X = dftr[['NAME_HOUSING_TYPE','AMT_CREDIT','NAME_FAMILY_STATUS','OCCUPATION_TYPE','CODE_GENDER','NAME_EDUCATION_TYPE','age','CNT_CHILDREN']]\n",
    "y = dftr['TARGET']\n",
    "X_train,X_test,y_train,y_test = train_test_split(X,y,test_size=0.25,random_state=0)\n"
   ]
  },
  {
   "cell_type": "code",
   "execution_count": null,
   "metadata": {},
   "outputs": [],
   "source": []
  },
  {
   "cell_type": "code",
   "execution_count": 18,
   "metadata": {
    "scrolled": true
   },
   "outputs": [
    {
     "name": "stdout",
     "output_type": "stream",
     "text": [
      "Warning: Maximum number of iterations has been exceeded.\n",
      "         Current function value: 0.291528\n",
      "         Iterations: 35\n"
     ]
    },
    {
     "name": "stderr",
     "output_type": "stream",
     "text": [
      "/Users/assel/miniconda3/lib/python3.7/site-packages/statsmodels/base/model.py:568: ConvergenceWarning: Maximum Likelihood optimization failed to converge. Check mle_retvals\n",
      "  \"Check mle_retvals\", ConvergenceWarning)\n"
     ]
    },
    {
     "data": {
      "text/plain": [
       "array([[1.92571e+05, 0.00000e+00],\n",
       "       [1.85440e+04, 3.00000e+00]])"
      ]
     },
     "execution_count": 18,
     "metadata": {},
     "output_type": "execute_result"
    }
   ],
   "source": [
    "fitted_model = smf.logit(formula='TARGET ~ age +C(OCCUPATION_TYPE)+C(CODE_GENDER)+C(CNT_CHILDREN)', data=dftr).fit()\n",
    "fitted_model.pred_table()\n"
   ]
  },
  {
   "cell_type": "code",
   "execution_count": 19,
   "metadata": {},
   "outputs": [
    {
     "data": {
      "text/html": [
       "<table class=\"simpletable\">\n",
       "<caption>Logit Regression Results</caption>\n",
       "<tr>\n",
       "  <th>Dep. Variable:</th>        <td>TARGET</td>      <th>  No. Observations:  </th>  <td>211118</td> \n",
       "</tr>\n",
       "<tr>\n",
       "  <th>Model:</th>                 <td>Logit</td>      <th>  Df Residuals:      </th>  <td>211084</td> \n",
       "</tr>\n",
       "<tr>\n",
       "  <th>Method:</th>                 <td>MLE</td>       <th>  Df Model:          </th>  <td>    33</td> \n",
       "</tr>\n",
       "<tr>\n",
       "  <th>Date:</th>            <td>Tue, 22 Sep 2020</td> <th>  Pseudo R-squ.:     </th>  <td>0.02020</td>\n",
       "</tr>\n",
       "<tr>\n",
       "  <th>Time:</th>                <td>20:47:01</td>     <th>  Log-Likelihood:    </th> <td> -61547.</td>\n",
       "</tr>\n",
       "<tr>\n",
       "  <th>converged:</th>             <td>False</td>      <th>  LL-Null:           </th> <td> -62816.</td>\n",
       "</tr>\n",
       "<tr>\n",
       "  <th>Covariance Type:</th>     <td>nonrobust</td>    <th>  LLR p-value:       </th>  <td> 0.000</td> \n",
       "</tr>\n",
       "</table>\n",
       "<table class=\"simpletable\">\n",
       "<tr>\n",
       "                       <td></td>                          <th>coef</th>     <th>std err</th>      <th>z</th>      <th>P>|z|</th>  <th>[0.025</th>    <th>0.975]</th>  \n",
       "</tr>\n",
       "<tr>\n",
       "  <th>Intercept</th>                                   <td>   -1.9758</td> <td>    0.058</td> <td>  -34.027</td> <td> 0.000</td> <td>   -2.090</td> <td>   -1.862</td>\n",
       "</tr>\n",
       "<tr>\n",
       "  <th>C(OCCUPATION_TYPE)[T.Cleaning staff]</th>        <td>    0.8999</td> <td>    0.069</td> <td>   13.059</td> <td> 0.000</td> <td>    0.765</td> <td>    1.035</td>\n",
       "</tr>\n",
       "<tr>\n",
       "  <th>C(OCCUPATION_TYPE)[T.Cooking staff]</th>         <td>    0.8481</td> <td>    0.064</td> <td>   13.349</td> <td> 0.000</td> <td>    0.724</td> <td>    0.973</td>\n",
       "</tr>\n",
       "<tr>\n",
       "  <th>C(OCCUPATION_TYPE)[T.Core staff]</th>            <td>    0.2064</td> <td>    0.053</td> <td>    3.862</td> <td> 0.000</td> <td>    0.102</td> <td>    0.311</td>\n",
       "</tr>\n",
       "<tr>\n",
       "  <th>C(OCCUPATION_TYPE)[T.Drivers]</th>               <td>    0.8102</td> <td>    0.056</td> <td>   14.595</td> <td> 0.000</td> <td>    0.701</td> <td>    0.919</td>\n",
       "</tr>\n",
       "<tr>\n",
       "  <th>C(OCCUPATION_TYPE)[T.HR staff]</th>              <td>    0.2593</td> <td>    0.179</td> <td>    1.450</td> <td> 0.147</td> <td>   -0.091</td> <td>    0.610</td>\n",
       "</tr>\n",
       "<tr>\n",
       "  <th>C(OCCUPATION_TYPE)[T.High skill tech staff]</th> <td>    0.2000</td> <td>    0.062</td> <td>    3.246</td> <td> 0.001</td> <td>    0.079</td> <td>    0.321</td>\n",
       "</tr>\n",
       "<tr>\n",
       "  <th>C(OCCUPATION_TYPE)[T.IT staff]</th>              <td>    0.0717</td> <td>    0.184</td> <td>    0.389</td> <td> 0.697</td> <td>   -0.290</td> <td>    0.433</td>\n",
       "</tr>\n",
       "<tr>\n",
       "  <th>C(OCCUPATION_TYPE)[T.Laborers]</th>              <td>    0.7572</td> <td>    0.050</td> <td>   15.016</td> <td> 0.000</td> <td>    0.658</td> <td>    0.856</td>\n",
       "</tr>\n",
       "<tr>\n",
       "  <th>C(OCCUPATION_TYPE)[T.Low-skill Laborers]</th>    <td>    1.2458</td> <td>    0.077</td> <td>   16.260</td> <td> 0.000</td> <td>    1.096</td> <td>    1.396</td>\n",
       "</tr>\n",
       "<tr>\n",
       "  <th>C(OCCUPATION_TYPE)[T.Managers]</th>              <td>    0.2425</td> <td>    0.056</td> <td>    4.345</td> <td> 0.000</td> <td>    0.133</td> <td>    0.352</td>\n",
       "</tr>\n",
       "<tr>\n",
       "  <th>C(OCCUPATION_TYPE)[T.Medicine staff]</th>        <td>    0.4003</td> <td>    0.064</td> <td>    6.246</td> <td> 0.000</td> <td>    0.275</td> <td>    0.526</td>\n",
       "</tr>\n",
       "<tr>\n",
       "  <th>C(OCCUPATION_TYPE)[T.Private service staff]</th> <td>    0.2975</td> <td>    0.091</td> <td>    3.253</td> <td> 0.001</td> <td>    0.118</td> <td>    0.477</td>\n",
       "</tr>\n",
       "<tr>\n",
       "  <th>C(OCCUPATION_TYPE)[T.Realty agents]</th>         <td>    0.4627</td> <td>    0.144</td> <td>    3.217</td> <td> 0.001</td> <td>    0.181</td> <td>    0.745</td>\n",
       "</tr>\n",
       "<tr>\n",
       "  <th>C(OCCUPATION_TYPE)[T.Sales staff]</th>           <td>    0.6771</td> <td>    0.051</td> <td>   13.308</td> <td> 0.000</td> <td>    0.577</td> <td>    0.777</td>\n",
       "</tr>\n",
       "<tr>\n",
       "  <th>C(OCCUPATION_TYPE)[T.Secretaries]</th>           <td>    0.3447</td> <td>    0.118</td> <td>    2.917</td> <td> 0.004</td> <td>    0.113</td> <td>    0.576</td>\n",
       "</tr>\n",
       "<tr>\n",
       "  <th>C(OCCUPATION_TYPE)[T.Security staff]</th>        <td>    0.8751</td> <td>    0.063</td> <td>   13.844</td> <td> 0.000</td> <td>    0.751</td> <td>    0.999</td>\n",
       "</tr>\n",
       "<tr>\n",
       "  <th>C(OCCUPATION_TYPE)[T.Waiters/barmen staff]</th>  <td>    0.7795</td> <td>    0.099</td> <td>    7.910</td> <td> 0.000</td> <td>    0.586</td> <td>    0.973</td>\n",
       "</tr>\n",
       "<tr>\n",
       "  <th>C(CODE_GENDER)[T.M]</th>                         <td>    0.1510</td> <td>    0.019</td> <td>    7.838</td> <td> 0.000</td> <td>    0.113</td> <td>    0.189</td>\n",
       "</tr>\n",
       "<tr>\n",
       "  <th>C(CNT_CHILDREN)[T.1]</th>                        <td>   -0.0352</td> <td>    0.019</td> <td>   -1.885</td> <td> 0.059</td> <td>   -0.072</td> <td>    0.001</td>\n",
       "</tr>\n",
       "<tr>\n",
       "  <th>C(CNT_CHILDREN)[T.2]</th>                        <td>   -0.0957</td> <td>    0.026</td> <td>   -3.694</td> <td> 0.000</td> <td>   -0.146</td> <td>   -0.045</td>\n",
       "</tr>\n",
       "<tr>\n",
       "  <th>C(CNT_CHILDREN)[T.3]</th>                        <td>    0.0621</td> <td>    0.062</td> <td>    1.007</td> <td> 0.314</td> <td>   -0.059</td> <td>    0.183</td>\n",
       "</tr>\n",
       "<tr>\n",
       "  <th>C(CNT_CHILDREN)[T.4]</th>                        <td>    0.3567</td> <td>    0.165</td> <td>    2.163</td> <td> 0.031</td> <td>    0.033</td> <td>    0.680</td>\n",
       "</tr>\n",
       "<tr>\n",
       "  <th>C(CNT_CHILDREN)[T.5]</th>                        <td>    0.0082</td> <td>    0.431</td> <td>    0.019</td> <td> 0.985</td> <td>   -0.837</td> <td>    0.853</td>\n",
       "</tr>\n",
       "<tr>\n",
       "  <th>C(CNT_CHILDREN)[T.6]</th>                        <td>    1.6413</td> <td>    0.619</td> <td>    2.650</td> <td> 0.008</td> <td>    0.427</td> <td>    2.855</td>\n",
       "</tr>\n",
       "<tr>\n",
       "  <th>C(CNT_CHILDREN)[T.7]</th>                        <td>  -45.4350</td> <td> 7.81e+09</td> <td>-5.82e-09</td> <td> 1.000</td> <td>-1.53e+10</td> <td> 1.53e+10</td>\n",
       "</tr>\n",
       "<tr>\n",
       "  <th>C(CNT_CHILDREN)[T.8]</th>                        <td>  -20.9961</td> <td> 8.23e+04</td> <td>   -0.000</td> <td> 1.000</td> <td>-1.61e+05</td> <td> 1.61e+05</td>\n",
       "</tr>\n",
       "<tr>\n",
       "  <th>C(CNT_CHILDREN)[T.9]</th>                        <td>   31.0061</td> <td> 1.38e+06</td> <td> 2.25e-05</td> <td> 1.000</td> <td>-2.71e+06</td> <td> 2.71e+06</td>\n",
       "</tr>\n",
       "<tr>\n",
       "  <th>C(CNT_CHILDREN)[T.10]</th>                       <td>  -17.4072</td> <td> 2.16e+04</td> <td>   -0.001</td> <td> 0.999</td> <td>-4.23e+04</td> <td> 4.22e+04</td>\n",
       "</tr>\n",
       "<tr>\n",
       "  <th>C(CNT_CHILDREN)[T.11]</th>                       <td>   22.8285</td> <td> 2.27e+04</td> <td>    0.001</td> <td> 0.999</td> <td>-4.46e+04</td> <td> 4.46e+04</td>\n",
       "</tr>\n",
       "<tr>\n",
       "  <th>C(CNT_CHILDREN)[T.12]</th>                       <td>  -21.1958</td> <td> 1.11e+05</td> <td>   -0.000</td> <td> 1.000</td> <td>-2.18e+05</td> <td> 2.18e+05</td>\n",
       "</tr>\n",
       "<tr>\n",
       "  <th>C(CNT_CHILDREN)[T.14]</th>                       <td>  -29.1294</td> <td> 5.17e+06</td> <td>-5.63e-06</td> <td> 1.000</td> <td>-1.01e+07</td> <td> 1.01e+07</td>\n",
       "</tr>\n",
       "<tr>\n",
       "  <th>C(CNT_CHILDREN)[T.19]</th>                       <td>  -36.9111</td> <td> 2.18e+08</td> <td> -1.7e-07</td> <td> 1.000</td> <td>-4.27e+08</td> <td> 4.27e+08</td>\n",
       "</tr>\n",
       "<tr>\n",
       "  <th>age</th>                                         <td>   -0.0252</td> <td>    0.001</td> <td>  -30.176</td> <td> 0.000</td> <td>   -0.027</td> <td>   -0.024</td>\n",
       "</tr>\n",
       "</table>"
      ],
      "text/plain": [
       "<class 'statsmodels.iolib.summary.Summary'>\n",
       "\"\"\"\n",
       "                           Logit Regression Results                           \n",
       "==============================================================================\n",
       "Dep. Variable:                 TARGET   No. Observations:               211118\n",
       "Model:                          Logit   Df Residuals:                   211084\n",
       "Method:                           MLE   Df Model:                           33\n",
       "Date:                Tue, 22 Sep 2020   Pseudo R-squ.:                 0.02020\n",
       "Time:                        20:47:01   Log-Likelihood:                -61547.\n",
       "converged:                      False   LL-Null:                       -62816.\n",
       "Covariance Type:            nonrobust   LLR p-value:                     0.000\n",
       "===============================================================================================================\n",
       "                                                  coef    std err          z      P>|z|      [0.025      0.975]\n",
       "---------------------------------------------------------------------------------------------------------------\n",
       "Intercept                                      -1.9758      0.058    -34.027      0.000      -2.090      -1.862\n",
       "C(OCCUPATION_TYPE)[T.Cleaning staff]            0.8999      0.069     13.059      0.000       0.765       1.035\n",
       "C(OCCUPATION_TYPE)[T.Cooking staff]             0.8481      0.064     13.349      0.000       0.724       0.973\n",
       "C(OCCUPATION_TYPE)[T.Core staff]                0.2064      0.053      3.862      0.000       0.102       0.311\n",
       "C(OCCUPATION_TYPE)[T.Drivers]                   0.8102      0.056     14.595      0.000       0.701       0.919\n",
       "C(OCCUPATION_TYPE)[T.HR staff]                  0.2593      0.179      1.450      0.147      -0.091       0.610\n",
       "C(OCCUPATION_TYPE)[T.High skill tech staff]     0.2000      0.062      3.246      0.001       0.079       0.321\n",
       "C(OCCUPATION_TYPE)[T.IT staff]                  0.0717      0.184      0.389      0.697      -0.290       0.433\n",
       "C(OCCUPATION_TYPE)[T.Laborers]                  0.7572      0.050     15.016      0.000       0.658       0.856\n",
       "C(OCCUPATION_TYPE)[T.Low-skill Laborers]        1.2458      0.077     16.260      0.000       1.096       1.396\n",
       "C(OCCUPATION_TYPE)[T.Managers]                  0.2425      0.056      4.345      0.000       0.133       0.352\n",
       "C(OCCUPATION_TYPE)[T.Medicine staff]            0.4003      0.064      6.246      0.000       0.275       0.526\n",
       "C(OCCUPATION_TYPE)[T.Private service staff]     0.2975      0.091      3.253      0.001       0.118       0.477\n",
       "C(OCCUPATION_TYPE)[T.Realty agents]             0.4627      0.144      3.217      0.001       0.181       0.745\n",
       "C(OCCUPATION_TYPE)[T.Sales staff]               0.6771      0.051     13.308      0.000       0.577       0.777\n",
       "C(OCCUPATION_TYPE)[T.Secretaries]               0.3447      0.118      2.917      0.004       0.113       0.576\n",
       "C(OCCUPATION_TYPE)[T.Security staff]            0.8751      0.063     13.844      0.000       0.751       0.999\n",
       "C(OCCUPATION_TYPE)[T.Waiters/barmen staff]      0.7795      0.099      7.910      0.000       0.586       0.973\n",
       "C(CODE_GENDER)[T.M]                             0.1510      0.019      7.838      0.000       0.113       0.189\n",
       "C(CNT_CHILDREN)[T.1]                           -0.0352      0.019     -1.885      0.059      -0.072       0.001\n",
       "C(CNT_CHILDREN)[T.2]                           -0.0957      0.026     -3.694      0.000      -0.146      -0.045\n",
       "C(CNT_CHILDREN)[T.3]                            0.0621      0.062      1.007      0.314      -0.059       0.183\n",
       "C(CNT_CHILDREN)[T.4]                            0.3567      0.165      2.163      0.031       0.033       0.680\n",
       "C(CNT_CHILDREN)[T.5]                            0.0082      0.431      0.019      0.985      -0.837       0.853\n",
       "C(CNT_CHILDREN)[T.6]                            1.6413      0.619      2.650      0.008       0.427       2.855\n",
       "C(CNT_CHILDREN)[T.7]                          -45.4350   7.81e+09  -5.82e-09      1.000   -1.53e+10    1.53e+10\n",
       "C(CNT_CHILDREN)[T.8]                          -20.9961   8.23e+04     -0.000      1.000   -1.61e+05    1.61e+05\n",
       "C(CNT_CHILDREN)[T.9]                           31.0061   1.38e+06   2.25e-05      1.000   -2.71e+06    2.71e+06\n",
       "C(CNT_CHILDREN)[T.10]                         -17.4072   2.16e+04     -0.001      0.999   -4.23e+04    4.22e+04\n",
       "C(CNT_CHILDREN)[T.11]                          22.8285   2.27e+04      0.001      0.999   -4.46e+04    4.46e+04\n",
       "C(CNT_CHILDREN)[T.12]                         -21.1958   1.11e+05     -0.000      1.000   -2.18e+05    2.18e+05\n",
       "C(CNT_CHILDREN)[T.14]                         -29.1294   5.17e+06  -5.63e-06      1.000   -1.01e+07    1.01e+07\n",
       "C(CNT_CHILDREN)[T.19]                         -36.9111   2.18e+08   -1.7e-07      1.000   -4.27e+08    4.27e+08\n",
       "age                                            -0.0252      0.001    -30.176      0.000      -0.027      -0.024\n",
       "===============================================================================================================\n",
       "\"\"\""
      ]
     },
     "execution_count": 19,
     "metadata": {},
     "output_type": "execute_result"
    }
   ],
   "source": [
    "fitted_model.summary()"
   ]
  },
  {
   "cell_type": "code",
   "execution_count": null,
   "metadata": {},
   "outputs": [],
   "source": []
  },
  {
   "cell_type": "code",
   "execution_count": 20,
   "metadata": {},
   "outputs": [],
   "source": [
    "# dftr.to_csv(r'~/Desktop/fortab.csv')"
   ]
  },
  {
   "cell_type": "code",
   "execution_count": 21,
   "metadata": {},
   "outputs": [],
   "source": [
    "# df = dftr.sample(frac =.25)"
   ]
  },
  {
   "cell_type": "code",
   "execution_count": 22,
   "metadata": {},
   "outputs": [],
   "source": [
    "# dftr['CODE_GENDER']\n",
    "# dftr.loc[dftr['CODE_GENDER'] == 'XNA']"
   ]
  },
  {
   "cell_type": "code",
   "execution_count": 23,
   "metadata": {},
   "outputs": [],
   "source": [
    "# plt.figure(figsize=(6, 5))\n",
    "# yaxis = dftr['TARGET'].value_counts().values / dftr.shape[0]\n",
    "# barplot = sns.barplot(x=[0,1], y=yaxis, palette = 'bright')\n",
    "# for p in barplot.patches:\n",
    "#     barplot.annotate(format(p.get_height()*100, '.2f'), (p.get_x() + p.get_width() / 2., p.get_height()), ha = 'center', va = 'center', xytext = (0, 5), textcoords = 'offset points')\n",
    "# plt.title(\"Overall Percentage of Paid vs Not Paid\")\n",
    "# plt.xlabel('0= Paid Off   1=Not Paid Off')\n",
    "# plt.ylabel('Percentage')"
   ]
  },
  {
   "cell_type": "code",
   "execution_count": null,
   "metadata": {},
   "outputs": [],
   "source": []
  },
  {
   "cell_type": "code",
   "execution_count": 24,
   "metadata": {},
   "outputs": [],
   "source": [
    "from sklearn.model_selection import train_test_split"
   ]
  },
  {
   "cell_type": "code",
   "execution_count": 25,
   "metadata": {},
   "outputs": [],
   "source": [
    "X = dftr[['NAME_HOUSING_TYPE','AMT_CREDIT','NAME_FAMILY_STATUS','OCCUPATION_TYPE','CODE_GENDER','NAME_EDUCATION_TYPE','age','CNT_CHILDREN','TARGET']]"
   ]
  },
  {
   "cell_type": "code",
   "execution_count": 26,
   "metadata": {},
   "outputs": [],
   "source": [
    "y = dftr['AMT_INCOME_TOTAL']"
   ]
  },
  {
   "cell_type": "code",
   "execution_count": 27,
   "metadata": {},
   "outputs": [],
   "source": [
    "X_train, X_test, y_train, y_test = train_test_split(X,y,test_size = 0.2)"
   ]
  },
  {
   "cell_type": "code",
   "execution_count": 28,
   "metadata": {},
   "outputs": [
    {
     "data": {
      "text/html": [
       "<div>\n",
       "<style scoped>\n",
       "    .dataframe tbody tr th:only-of-type {\n",
       "        vertical-align: middle;\n",
       "    }\n",
       "\n",
       "    .dataframe tbody tr th {\n",
       "        vertical-align: top;\n",
       "    }\n",
       "\n",
       "    .dataframe thead th {\n",
       "        text-align: right;\n",
       "    }\n",
       "</style>\n",
       "<table border=\"1\" class=\"dataframe\">\n",
       "  <thead>\n",
       "    <tr style=\"text-align: right;\">\n",
       "      <th></th>\n",
       "      <th>NAME_HOUSING_TYPE</th>\n",
       "      <th>AMT_CREDIT</th>\n",
       "      <th>NAME_FAMILY_STATUS</th>\n",
       "      <th>OCCUPATION_TYPE</th>\n",
       "      <th>CODE_GENDER</th>\n",
       "      <th>NAME_EDUCATION_TYPE</th>\n",
       "      <th>age</th>\n",
       "      <th>CNT_CHILDREN</th>\n",
       "      <th>TARGET</th>\n",
       "      <th>AMT_INCOME_TOTAL</th>\n",
       "    </tr>\n",
       "  </thead>\n",
       "  <tbody>\n",
       "    <tr>\n",
       "      <th>256869</th>\n",
       "      <td>House / apartment</td>\n",
       "      <td>1035832.5</td>\n",
       "      <td>Civil marriage</td>\n",
       "      <td>Sales staff</td>\n",
       "      <td>F</td>\n",
       "      <td>Incomplete higher</td>\n",
       "      <td>28.0</td>\n",
       "      <td>0</td>\n",
       "      <td>0</td>\n",
       "      <td>135000.0</td>\n",
       "    </tr>\n",
       "    <tr>\n",
       "      <th>52585</th>\n",
       "      <td>House / apartment</td>\n",
       "      <td>640080.0</td>\n",
       "      <td>Married</td>\n",
       "      <td>NaN</td>\n",
       "      <td>F</td>\n",
       "      <td>Secondary / secondary special</td>\n",
       "      <td>45.0</td>\n",
       "      <td>0</td>\n",
       "      <td>0</td>\n",
       "      <td>180000.0</td>\n",
       "    </tr>\n",
       "    <tr>\n",
       "      <th>204201</th>\n",
       "      <td>House / apartment</td>\n",
       "      <td>610335.0</td>\n",
       "      <td>Married</td>\n",
       "      <td>Laborers</td>\n",
       "      <td>F</td>\n",
       "      <td>Secondary / secondary special</td>\n",
       "      <td>38.0</td>\n",
       "      <td>2</td>\n",
       "      <td>0</td>\n",
       "      <td>90000.0</td>\n",
       "    </tr>\n",
       "    <tr>\n",
       "      <th>71236</th>\n",
       "      <td>House / apartment</td>\n",
       "      <td>239850.0</td>\n",
       "      <td>Separated</td>\n",
       "      <td>Laborers</td>\n",
       "      <td>F</td>\n",
       "      <td>Incomplete higher</td>\n",
       "      <td>49.0</td>\n",
       "      <td>0</td>\n",
       "      <td>0</td>\n",
       "      <td>135000.0</td>\n",
       "    </tr>\n",
       "    <tr>\n",
       "      <th>304645</th>\n",
       "      <td>House / apartment</td>\n",
       "      <td>352044.0</td>\n",
       "      <td>Married</td>\n",
       "      <td>Accountants</td>\n",
       "      <td>F</td>\n",
       "      <td>Secondary / secondary special</td>\n",
       "      <td>51.0</td>\n",
       "      <td>0</td>\n",
       "      <td>0</td>\n",
       "      <td>135000.0</td>\n",
       "    </tr>\n",
       "    <tr>\n",
       "      <th>...</th>\n",
       "      <td>...</td>\n",
       "      <td>...</td>\n",
       "      <td>...</td>\n",
       "      <td>...</td>\n",
       "      <td>...</td>\n",
       "      <td>...</td>\n",
       "      <td>...</td>\n",
       "      <td>...</td>\n",
       "      <td>...</td>\n",
       "      <td>...</td>\n",
       "    </tr>\n",
       "    <tr>\n",
       "      <th>143350</th>\n",
       "      <td>House / apartment</td>\n",
       "      <td>225000.0</td>\n",
       "      <td>Separated</td>\n",
       "      <td>NaN</td>\n",
       "      <td>M</td>\n",
       "      <td>Higher education</td>\n",
       "      <td>47.0</td>\n",
       "      <td>2</td>\n",
       "      <td>0</td>\n",
       "      <td>450000.0</td>\n",
       "    </tr>\n",
       "    <tr>\n",
       "      <th>59405</th>\n",
       "      <td>House / apartment</td>\n",
       "      <td>239850.0</td>\n",
       "      <td>Married</td>\n",
       "      <td>Laborers</td>\n",
       "      <td>F</td>\n",
       "      <td>Secondary / secondary special</td>\n",
       "      <td>45.0</td>\n",
       "      <td>0</td>\n",
       "      <td>0</td>\n",
       "      <td>126000.0</td>\n",
       "    </tr>\n",
       "    <tr>\n",
       "      <th>129136</th>\n",
       "      <td>House / apartment</td>\n",
       "      <td>472500.0</td>\n",
       "      <td>Separated</td>\n",
       "      <td>NaN</td>\n",
       "      <td>F</td>\n",
       "      <td>Secondary / secondary special</td>\n",
       "      <td>56.0</td>\n",
       "      <td>0</td>\n",
       "      <td>0</td>\n",
       "      <td>85500.0</td>\n",
       "    </tr>\n",
       "    <tr>\n",
       "      <th>102506</th>\n",
       "      <td>House / apartment</td>\n",
       "      <td>675000.0</td>\n",
       "      <td>Married</td>\n",
       "      <td>High skill tech staff</td>\n",
       "      <td>F</td>\n",
       "      <td>Secondary / secondary special</td>\n",
       "      <td>46.0</td>\n",
       "      <td>0</td>\n",
       "      <td>0</td>\n",
       "      <td>180000.0</td>\n",
       "    </tr>\n",
       "    <tr>\n",
       "      <th>279915</th>\n",
       "      <td>House / apartment</td>\n",
       "      <td>417024.0</td>\n",
       "      <td>Married</td>\n",
       "      <td>NaN</td>\n",
       "      <td>F</td>\n",
       "      <td>Secondary / secondary special</td>\n",
       "      <td>60.0</td>\n",
       "      <td>0</td>\n",
       "      <td>0</td>\n",
       "      <td>270000.0</td>\n",
       "    </tr>\n",
       "  </tbody>\n",
       "</table>\n",
       "<p>246005 rows × 10 columns</p>\n",
       "</div>"
      ],
      "text/plain": [
       "        NAME_HOUSING_TYPE  AMT_CREDIT NAME_FAMILY_STATUS  \\\n",
       "256869  House / apartment   1035832.5     Civil marriage   \n",
       "52585   House / apartment    640080.0            Married   \n",
       "204201  House / apartment    610335.0            Married   \n",
       "71236   House / apartment    239850.0          Separated   \n",
       "304645  House / apartment    352044.0            Married   \n",
       "...                   ...         ...                ...   \n",
       "143350  House / apartment    225000.0          Separated   \n",
       "59405   House / apartment    239850.0            Married   \n",
       "129136  House / apartment    472500.0          Separated   \n",
       "102506  House / apartment    675000.0            Married   \n",
       "279915  House / apartment    417024.0            Married   \n",
       "\n",
       "              OCCUPATION_TYPE CODE_GENDER            NAME_EDUCATION_TYPE  \\\n",
       "256869            Sales staff           F              Incomplete higher   \n",
       "52585                     NaN           F  Secondary / secondary special   \n",
       "204201               Laborers           F  Secondary / secondary special   \n",
       "71236                Laborers           F              Incomplete higher   \n",
       "304645            Accountants           F  Secondary / secondary special   \n",
       "...                       ...         ...                            ...   \n",
       "143350                    NaN           M               Higher education   \n",
       "59405                Laborers           F  Secondary / secondary special   \n",
       "129136                    NaN           F  Secondary / secondary special   \n",
       "102506  High skill tech staff           F  Secondary / secondary special   \n",
       "279915                    NaN           F  Secondary / secondary special   \n",
       "\n",
       "         age  CNT_CHILDREN  TARGET  AMT_INCOME_TOTAL  \n",
       "256869  28.0             0       0          135000.0  \n",
       "52585   45.0             0       0          180000.0  \n",
       "204201  38.0             2       0           90000.0  \n",
       "71236   49.0             0       0          135000.0  \n",
       "304645  51.0             0       0          135000.0  \n",
       "...      ...           ...     ...               ...  \n",
       "143350  47.0             2       0          450000.0  \n",
       "59405   45.0             0       0          126000.0  \n",
       "129136  56.0             0       0           85500.0  \n",
       "102506  46.0             0       0          180000.0  \n",
       "279915  60.0             0       0          270000.0  \n",
       "\n",
       "[246005 rows x 10 columns]"
      ]
     },
     "execution_count": 28,
     "metadata": {},
     "output_type": "execute_result"
    }
   ],
   "source": [
    "dftr_train = pd.concat([X_train, y_train], axis = 1)\n",
    "dftr_train"
   ]
  },
  {
   "cell_type": "code",
   "execution_count": 29,
   "metadata": {},
   "outputs": [
    {
     "data": {
      "text/html": [
       "<div>\n",
       "<style scoped>\n",
       "    .dataframe tbody tr th:only-of-type {\n",
       "        vertical-align: middle;\n",
       "    }\n",
       "\n",
       "    .dataframe tbody tr th {\n",
       "        vertical-align: top;\n",
       "    }\n",
       "\n",
       "    .dataframe thead th {\n",
       "        text-align: right;\n",
       "    }\n",
       "</style>\n",
       "<table border=\"1\" class=\"dataframe\">\n",
       "  <thead>\n",
       "    <tr style=\"text-align: right;\">\n",
       "      <th></th>\n",
       "      <th>NAME_HOUSING_TYPE</th>\n",
       "      <th>AMT_CREDIT</th>\n",
       "      <th>NAME_FAMILY_STATUS</th>\n",
       "      <th>OCCUPATION_TYPE</th>\n",
       "      <th>CODE_GENDER</th>\n",
       "      <th>NAME_EDUCATION_TYPE</th>\n",
       "      <th>age</th>\n",
       "      <th>CNT_CHILDREN</th>\n",
       "      <th>TARGET</th>\n",
       "      <th>AMT_INCOME_TOTAL</th>\n",
       "    </tr>\n",
       "  </thead>\n",
       "  <tbody>\n",
       "    <tr>\n",
       "      <th>61657</th>\n",
       "      <td>House / apartment</td>\n",
       "      <td>521280.0</td>\n",
       "      <td>Single / not married</td>\n",
       "      <td>NaN</td>\n",
       "      <td>M</td>\n",
       "      <td>Secondary / secondary special</td>\n",
       "      <td>36.0</td>\n",
       "      <td>0</td>\n",
       "      <td>1</td>\n",
       "      <td>72000.0</td>\n",
       "    </tr>\n",
       "    <tr>\n",
       "      <th>194741</th>\n",
       "      <td>House / apartment</td>\n",
       "      <td>337500.0</td>\n",
       "      <td>Married</td>\n",
       "      <td>NaN</td>\n",
       "      <td>F</td>\n",
       "      <td>Higher education</td>\n",
       "      <td>40.0</td>\n",
       "      <td>2</td>\n",
       "      <td>0</td>\n",
       "      <td>112500.0</td>\n",
       "    </tr>\n",
       "    <tr>\n",
       "      <th>205780</th>\n",
       "      <td>House / apartment</td>\n",
       "      <td>521280.0</td>\n",
       "      <td>Married</td>\n",
       "      <td>High skill tech staff</td>\n",
       "      <td>M</td>\n",
       "      <td>Secondary / secondary special</td>\n",
       "      <td>42.0</td>\n",
       "      <td>0</td>\n",
       "      <td>0</td>\n",
       "      <td>180000.0</td>\n",
       "    </tr>\n",
       "    <tr>\n",
       "      <th>237934</th>\n",
       "      <td>With parents</td>\n",
       "      <td>90000.0</td>\n",
       "      <td>Single / not married</td>\n",
       "      <td>NaN</td>\n",
       "      <td>M</td>\n",
       "      <td>Secondary / secondary special</td>\n",
       "      <td>26.0</td>\n",
       "      <td>0</td>\n",
       "      <td>0</td>\n",
       "      <td>90000.0</td>\n",
       "    </tr>\n",
       "    <tr>\n",
       "      <th>30109</th>\n",
       "      <td>House / apartment</td>\n",
       "      <td>900000.0</td>\n",
       "      <td>Married</td>\n",
       "      <td>Accountants</td>\n",
       "      <td>F</td>\n",
       "      <td>Secondary / secondary special</td>\n",
       "      <td>35.0</td>\n",
       "      <td>0</td>\n",
       "      <td>0</td>\n",
       "      <td>270000.0</td>\n",
       "    </tr>\n",
       "    <tr>\n",
       "      <th>...</th>\n",
       "      <td>...</td>\n",
       "      <td>...</td>\n",
       "      <td>...</td>\n",
       "      <td>...</td>\n",
       "      <td>...</td>\n",
       "      <td>...</td>\n",
       "      <td>...</td>\n",
       "      <td>...</td>\n",
       "      <td>...</td>\n",
       "      <td>...</td>\n",
       "    </tr>\n",
       "    <tr>\n",
       "      <th>63113</th>\n",
       "      <td>House / apartment</td>\n",
       "      <td>1546020.0</td>\n",
       "      <td>Married</td>\n",
       "      <td>NaN</td>\n",
       "      <td>F</td>\n",
       "      <td>Secondary / secondary special</td>\n",
       "      <td>62.0</td>\n",
       "      <td>0</td>\n",
       "      <td>0</td>\n",
       "      <td>112500.0</td>\n",
       "    </tr>\n",
       "    <tr>\n",
       "      <th>203265</th>\n",
       "      <td>House / apartment</td>\n",
       "      <td>532345.5</td>\n",
       "      <td>Married</td>\n",
       "      <td>Managers</td>\n",
       "      <td>M</td>\n",
       "      <td>Secondary / secondary special</td>\n",
       "      <td>58.0</td>\n",
       "      <td>0</td>\n",
       "      <td>1</td>\n",
       "      <td>247500.0</td>\n",
       "    </tr>\n",
       "    <tr>\n",
       "      <th>9612</th>\n",
       "      <td>With parents</td>\n",
       "      <td>254700.0</td>\n",
       "      <td>Civil marriage</td>\n",
       "      <td>Sales staff</td>\n",
       "      <td>F</td>\n",
       "      <td>Secondary / secondary special</td>\n",
       "      <td>31.0</td>\n",
       "      <td>2</td>\n",
       "      <td>0</td>\n",
       "      <td>81000.0</td>\n",
       "    </tr>\n",
       "    <tr>\n",
       "      <th>75124</th>\n",
       "      <td>Rented apartment</td>\n",
       "      <td>355536.0</td>\n",
       "      <td>Married</td>\n",
       "      <td>NaN</td>\n",
       "      <td>F</td>\n",
       "      <td>Secondary / secondary special</td>\n",
       "      <td>61.0</td>\n",
       "      <td>0</td>\n",
       "      <td>0</td>\n",
       "      <td>139500.0</td>\n",
       "    </tr>\n",
       "    <tr>\n",
       "      <th>210564</th>\n",
       "      <td>House / apartment</td>\n",
       "      <td>691020.0</td>\n",
       "      <td>Married</td>\n",
       "      <td>Sales staff</td>\n",
       "      <td>F</td>\n",
       "      <td>Secondary / secondary special</td>\n",
       "      <td>50.0</td>\n",
       "      <td>0</td>\n",
       "      <td>0</td>\n",
       "      <td>157500.0</td>\n",
       "    </tr>\n",
       "  </tbody>\n",
       "</table>\n",
       "<p>61502 rows × 10 columns</p>\n",
       "</div>"
      ],
      "text/plain": [
       "        NAME_HOUSING_TYPE  AMT_CREDIT    NAME_FAMILY_STATUS  \\\n",
       "61657   House / apartment    521280.0  Single / not married   \n",
       "194741  House / apartment    337500.0               Married   \n",
       "205780  House / apartment    521280.0               Married   \n",
       "237934       With parents     90000.0  Single / not married   \n",
       "30109   House / apartment    900000.0               Married   \n",
       "...                   ...         ...                   ...   \n",
       "63113   House / apartment   1546020.0               Married   \n",
       "203265  House / apartment    532345.5               Married   \n",
       "9612         With parents    254700.0        Civil marriage   \n",
       "75124    Rented apartment    355536.0               Married   \n",
       "210564  House / apartment    691020.0               Married   \n",
       "\n",
       "              OCCUPATION_TYPE CODE_GENDER            NAME_EDUCATION_TYPE  \\\n",
       "61657                     NaN           M  Secondary / secondary special   \n",
       "194741                    NaN           F               Higher education   \n",
       "205780  High skill tech staff           M  Secondary / secondary special   \n",
       "237934                    NaN           M  Secondary / secondary special   \n",
       "30109             Accountants           F  Secondary / secondary special   \n",
       "...                       ...         ...                            ...   \n",
       "63113                     NaN           F  Secondary / secondary special   \n",
       "203265               Managers           M  Secondary / secondary special   \n",
       "9612              Sales staff           F  Secondary / secondary special   \n",
       "75124                     NaN           F  Secondary / secondary special   \n",
       "210564            Sales staff           F  Secondary / secondary special   \n",
       "\n",
       "         age  CNT_CHILDREN  TARGET  AMT_INCOME_TOTAL  \n",
       "61657   36.0             0       1           72000.0  \n",
       "194741  40.0             2       0          112500.0  \n",
       "205780  42.0             0       0          180000.0  \n",
       "237934  26.0             0       0           90000.0  \n",
       "30109   35.0             0       0          270000.0  \n",
       "...      ...           ...     ...               ...  \n",
       "63113   62.0             0       0          112500.0  \n",
       "203265  58.0             0       1          247500.0  \n",
       "9612    31.0             2       0           81000.0  \n",
       "75124   61.0             0       0          139500.0  \n",
       "210564  50.0             0       0          157500.0  \n",
       "\n",
       "[61502 rows x 10 columns]"
      ]
     },
     "execution_count": 29,
     "metadata": {},
     "output_type": "execute_result"
    }
   ],
   "source": [
    "dftr_test = pd.concat([X_test,y_test], axis = 1)\n",
    "dftr_test"
   ]
  },
  {
   "cell_type": "code",
   "execution_count": 30,
   "metadata": {},
   "outputs": [],
   "source": [
    "linear_model = smf.ols(formula='AMT_INCOME_TOTAL ~ C(CNT_CHILDREN)', data=dftr_train).fit()\n",
    "\n"
   ]
  },
  {
   "cell_type": "code",
   "execution_count": 31,
   "metadata": {},
   "outputs": [],
   "source": [
    "from sklearn.metrics import r2_score"
   ]
  },
  {
   "cell_type": "code",
   "execution_count": 32,
   "metadata": {},
   "outputs": [
    {
     "data": {
      "text/plain": [
       "Intercept                166300.733954\n",
       "C(CNT_CHILDREN)[T.1]       7518.885125\n",
       "C(CNT_CHILDREN)[T.2]       6658.674962\n",
       "C(CNT_CHILDREN)[T.3]       8877.421797\n",
       "C(CNT_CHILDREN)[T.4]       3407.845927\n",
       "C(CNT_CHILDREN)[T.5]       5610.012314\n",
       "C(CNT_CHILDREN)[T.6]     -30175.733954\n",
       "C(CNT_CHILDREN)[T.7]     -32800.733954\n",
       "C(CNT_CHILDREN)[T.8]     -58300.733954\n",
       "C(CNT_CHILDREN)[T.9]      58699.266046\n",
       "C(CNT_CHILDREN)[T.10]    -98800.733954\n",
       "C(CNT_CHILDREN)[T.11]    148699.266046\n",
       "C(CNT_CHILDREN)[T.12]    114949.266046\n",
       "C(CNT_CHILDREN)[T.14]    -58300.733954\n",
       "C(CNT_CHILDREN)[T.19]    -53800.733954\n",
       "dtype: float64"
      ]
     },
     "execution_count": 32,
     "metadata": {},
     "output_type": "execute_result"
    }
   ],
   "source": [
    "linear_model.params"
   ]
  },
  {
   "cell_type": "code",
   "execution_count": 33,
   "metadata": {},
   "outputs": [],
   "source": [
    "y_test_pred = linear_model.predict(X_test)"
   ]
  },
  {
   "cell_type": "code",
   "execution_count": 34,
   "metadata": {},
   "outputs": [
    {
     "data": {
      "text/plain": [
       "61657     166300.733954\n",
       "194741    172959.408916\n",
       "205780    166300.733954\n",
       "237934    166300.733954\n",
       "30109     166300.733954\n",
       "              ...      \n",
       "63113     166300.733954\n",
       "203265    166300.733954\n",
       "9612      172959.408916\n",
       "75124     166300.733954\n",
       "210564    166300.733954\n",
       "Length: 61502, dtype: float64"
      ]
     },
     "execution_count": 34,
     "metadata": {},
     "output_type": "execute_result"
    }
   ],
   "source": [
    "y_test_pred"
   ]
  },
  {
   "cell_type": "code",
   "execution_count": 35,
   "metadata": {},
   "outputs": [
    {
     "data": {
      "text/plain": [
       "61657      72000.0\n",
       "194741    112500.0\n",
       "205780    180000.0\n",
       "237934     90000.0\n",
       "30109     270000.0\n",
       "            ...   \n",
       "63113     112500.0\n",
       "203265    247500.0\n",
       "9612       81000.0\n",
       "75124     139500.0\n",
       "210564    157500.0\n",
       "Name: AMT_INCOME_TOTAL, Length: 61502, dtype: float64"
      ]
     },
     "execution_count": 35,
     "metadata": {},
     "output_type": "execute_result"
    }
   ],
   "source": [
    "y_test"
   ]
  },
  {
   "cell_type": "code",
   "execution_count": 36,
   "metadata": {},
   "outputs": [],
   "source": [
    "# r2_score(y_test, y_test_pred)"
   ]
  },
  {
   "cell_type": "code",
   "execution_count": null,
   "metadata": {},
   "outputs": [],
   "source": []
  },
  {
   "cell_type": "code",
   "execution_count": null,
   "metadata": {},
   "outputs": [],
   "source": []
  },
  {
   "cell_type": "code",
   "execution_count": null,
   "metadata": {},
   "outputs": [],
   "source": []
  },
  {
   "cell_type": "code",
   "execution_count": 37,
   "metadata": {},
   "outputs": [
    {
     "data": {
      "text/plain": [
       "<AxesSubplot:xlabel='TARGET'>"
      ]
     },
     "execution_count": 37,
     "metadata": {},
     "output_type": "execute_result"
    },
    {
     "data": {
      "image/png": "[encoded data removed]",
      "text/plain": [
       "<Figure size 432x288 with 1 Axes>"
      ]
     },
     "metadata": {
      "needs_background": "light"
     },
     "output_type": "display_data"
    }
   ],
   "source": [
    "dftr.groupby('CODE_GENDER').TARGET.value_counts().unstack(0).plot.bar()"
   ]
  },
  {
   "cell_type": "code",
   "execution_count": 38,
   "metadata": {},
   "outputs": [
    {
     "data": {
      "text/plain": [
       "<AxesSubplot:xlabel='TARGET'>"
      ]
     },
     "execution_count": 38,
     "metadata": {},
     "output_type": "execute_result"
    },
    {
     "data": {
      "image/png": "[encoded data removed]",
      "text/plain": [
       "<Figure size 432x288 with 1 Axes>"
      ]
     },
     "metadata": {
      "needs_background": "light"
     },
     "output_type": "display_data"
    }
   ],
   "source": [
    "dftr.groupby('NAME_INCOME_TYPE').TARGET.value_counts().unstack(0).plot.bar()"
   ]
  },
  {
   "cell_type": "code",
   "execution_count": 39,
   "metadata": {},
   "outputs": [
    {
     "data": {
      "image/png": "[encoded data removed]",
      "text/plain": [
       "<Figure size 720x576 with 1 Axes>"
      ]
     },
     "metadata": {
      "needs_background": "light"
     },
     "output_type": "display_data"
    }
   ],
   "source": [
    "plt.figure(figsize = (10, 8))\n",
    "\n",
    "# KDE plot of loans that were repaid on time\n",
    "sns.kdeplot(dftr.loc[dftr['TARGET'] == 0, 'age'], label = 'target == 0')\n",
    "\n",
    "# KDE plot of loans which were not repaid on time\n",
    "sns.kdeplot(dftr.loc[dftr['TARGET'] == 1, 'age'], label = 'target == 1')\n",
    "\n",
    "# Labeling of plot\n",
    "plt.xlabel('Age (years)'); plt.ylabel('Density'); plt.title('Distribution of Ages');\n"
   ]
  },
  {
   "cell_type": "code",
   "execution_count": 40,
   "metadata": {},
   "outputs": [
    {
     "data": {
      "text/plain": [
       "<AxesSubplot:xlabel='NAME_HOUSING_TYPE', ylabel='count'>"
      ]
     },
     "execution_count": 40,
     "metadata": {},
     "output_type": "execute_result"
    },
    {
     "data": {
      "image/png": "[encoded data removed]",
      "text/plain": [
       "<Figure size 792x576 with 1 Axes>"
      ]
     },
     "metadata": {},
     "output_type": "display_data"
    }
   ],
   "source": [
    "sns.set(rc={'figure.figsize': (11, 8)})\n",
    "sns.set_style(style=\"ticks\")\n",
    "sns.countplot(x=\"NAME_HOUSING_TYPE\", data=dftr, order=dftr['NAME_HOUSING_TYPE'].value_counts().sort_values(ascending=False).index)"
   ]
  },
  {
   "cell_type": "code",
   "execution_count": 41,
   "metadata": {},
   "outputs": [
    {
     "data": {
      "image/png": "[encoded data removed]",
      "text/plain": [
       "<Figure size 2261.43x1080 with 2 Axes>"
      ]
     },
     "metadata": {},
     "output_type": "display_data"
    }
   ],
   "source": [
    "g = sns.catplot(x=\"NAME_FAMILY_STATUS\", hue=\"CODE_GENDER\", col=\"TARGET\",\n",
    "                data=dftr,palette=\"Set2\",kind=\"count\",\n",
    "                height=15, aspect=1)"
   ]
  },
  {
   "cell_type": "code",
   "execution_count": 42,
   "metadata": {},
   "outputs": [
    {
     "data": {
      "image/png": "[encoded data removed]",
      "text/plain": [
       "<Figure size 2261.43x1080 with 2 Axes>"
      ]
     },
     "metadata": {},
     "output_type": "display_data"
    }
   ],
   "source": [
    "g = sns.catplot(x=\"NAME_EDUCATION_TYPE\", hue=\"CODE_GENDER\", col=\"TARGET\",\n",
    "                data=dftr,palette=\"Set2\",kind=\"count\",\n",
    "                height=15, aspect=1)"
   ]
  },
  {
   "cell_type": "code",
   "execution_count": 43,
   "metadata": {},
   "outputs": [
    {
     "data": {
      "text/plain": [
       "<AxesSubplot:xlabel='NAME_EDUCATION_TYPE', ylabel='count'>"
      ]
     },
     "execution_count": 43,
     "metadata": {},
     "output_type": "execute_result"
    },
    {
     "data": {
      "image/png": "[encoded data removed]",
      "text/plain": [
       "<Figure size 792x576 with 1 Axes>"
      ]
     },
     "metadata": {},
     "output_type": "display_data"
    }
   ],
   "source": [
    "sns.set(rc={'figure.figsize': (11, 8)})\n",
    "sns.set_style(style=\"ticks\")\n",
    "sns.countplot(x=\"NAME_EDUCATION_TYPE\",hue=\"CODE_GENDER\", data=dftr, order=dftr['NAME_EDUCATION_TYPE'].value_counts().sort_values(ascending=False).index)"
   ]
  },
  {
   "cell_type": "code",
   "execution_count": 44,
   "metadata": {},
   "outputs": [
    {
     "data": {
      "text/plain": [
       "<AxesSubplot:xlabel='TARGET'>"
      ]
     },
     "execution_count": 44,
     "metadata": {},
     "output_type": "execute_result"
    },
    {
     "data": {
      "image/png": "[encoded data removed]",
      "text/plain": [
       "<Figure size 792x576 with 1 Axes>"
      ]
     },
     "metadata": {},
     "output_type": "display_data"
    }
   ],
   "source": [
    "dftr.groupby('CNT_CHILDREN').TARGET.value_counts().unstack(0).plot.bar()"
   ]
  },
  {
   "cell_type": "code",
   "execution_count": 45,
   "metadata": {},
   "outputs": [
    {
     "data": {
      "image/png": "[encoded data removed]",
      "text/plain": [
       "<Figure size 792x576 with 1 Axes>"
      ]
     },
     "metadata": {},
     "output_type": "display_data"
    }
   ],
   "source": [
    "ax=sns.countplot(y=\"FLAG_OWN_REALTY\", hue='TARGET', data=dftr,palette=\"Set2\")\n",
    "plt.title('Distribution of  Configurations')\n",
    "plt.xlabel('Number of Axles')\n",
    "\n",
    "total = len(dftr['FLAG_OWN_REALTY'])\n",
    "for p in ax.patches:\n",
    "        percentage = '{:.1f}%'.format(100 * p.get_width()/total)\n",
    "        x = p.get_x() + p.get_width() + 0.02\n",
    "        y = p.get_y() + p.get_height()/2\n",
    "        ax.annotate(percentage, (x, y))\n",
    "\n",
    "plt.show()"
   ]
  },
  {
   "cell_type": "code",
   "execution_count": 46,
   "metadata": {},
   "outputs": [
    {
     "data": {
      "image/png": "[encoded data removed]",
      "text/plain": [
       "<Figure size 792x576 with 1 Axes>"
      ]
     },
     "metadata": {},
     "output_type": "display_data"
    }
   ],
   "source": [
    "ax=sns.countplot(y=\"FLAG_OWN_CAR\", hue='TARGET', data=dftr,palette=\"Paired\")\n",
    "plt.title('Distribution of  Configurations')\n",
    "plt.xlabel('Number of Axles')\n",
    "\n",
    "total = len(dftr['FLAG_OWN_REALTY'])\n",
    "for p in ax.patches:\n",
    "        percentage = '{:.1f}%'.format(100 * p.get_width()/total)\n",
    "        x = p.get_x() + p.get_width() + 0.02\n",
    "        y = p.get_y() + p.get_height()/2\n",
    "        ax.annotate(percentage, (x, y))\n",
    "\n",
    "plt.show()"
   ]
  },
  {
   "cell_type": "code",
   "execution_count": 47,
   "metadata": {},
   "outputs": [
    {
     "ename": "SyntaxError",
     "evalue": "invalid syntax (<ipython-input-47-01611f76a69b>, line 6)",
     "output_type": "error",
     "traceback": [
      "\u001b[0;36m  File \u001b[0;32m\"<ipython-input-47-01611f76a69b>\"\u001b[0;36m, line \u001b[0;32m6\u001b[0m\n\u001b[0;31m    sns.barplot(x=\"ORGANIZATION_TYPE\", hue=\"TARGET\", data=dftr, palette = 'bright')\u001b[0m\n\u001b[0m      ^\u001b[0m\n\u001b[0;31mSyntaxError\u001b[0m\u001b[0;31m:\u001b[0m invalid syntax\n"
     ]
    }
   ],
   "source": [
    "plt.figure(figsize=(18,6))\n",
    "plt.subplot(1,2,1)\n",
    "Pemail = (dftr[~dftr['ORGANIZATION_TYPE'].isnull()].groupby(['TARGET'])['ORGANIZATION_TYPE'].value_counts(normalize=True)\n",
    "\n",
    "\n",
    "sns.barplot(x=\"ORGANIZATION_TYPE\", hue=\"TARGET\", data=dftr, palette = 'bright')\n",
    "plt.xticks(rotation=100)"
   ]
  },
  {
   "cell_type": "code",
   "execution_count": null,
   "metadata": {},
   "outputs": [],
   "source": [
    "dfb['CREDIT_CURRENCY'].unique()"
   ]
  },
  {
   "cell_type": "code",
   "execution_count": null,
   "metadata": {},
   "outputs": [],
   "source": [
    "dftr[dftr['NAME_INCOME_TYPE']=='Businessman']"
   ]
  },
  {
   "cell_type": "code",
   "execution_count": null,
   "metadata": {},
   "outputs": [],
   "source": [
    "dfa = pd.merge(dftr, dfb, on='SK_ID_CURR', how='left')"
   ]
  },
  {
   "cell_type": "code",
   "execution_count": null,
   "metadata": {},
   "outputs": [],
   "source": [
    "dfa.head(5)"
   ]
  },
  {
   "cell_type": "code",
   "execution_count": null,
   "metadata": {},
   "outputs": [],
   "source": [
    "# dfa.groupby(['CREDIT_CURRENCY']).value_counts()\n",
    "dfa['CREDIT_CURRENCY'].value_counts(normalize=True)"
   ]
  },
  {
   "cell_type": "code",
   "execution_count": null,
   "metadata": {},
   "outputs": [],
   "source": [
    "sns.heatmap(dfa.isnull())"
   ]
  },
  {
   "cell_type": "code",
   "execution_count": null,
   "metadata": {},
   "outputs": [],
   "source": [
    "dfa.to_csv(r'~/Desktop/dfa.csv')"
   ]
  },
  {
   "cell_type": "code",
   "execution_count": null,
   "metadata": {},
   "outputs": [],
   "source": [
    "df.head(10)"
   ]
  },
  {
   "cell_type": "code",
   "execution_count": null,
   "metadata": {},
   "outputs": [],
   "source": []
  },
  {
   "cell_type": "code",
   "execution_count": null,
   "metadata": {},
   "outputs": [],
   "source": []
  }
 ],
 "metadata": {
  "kernelspec": {
   "display_name": "Python 3",
   "language": "python",
   "name": "python3"
  },
  "language_info": {
   "codemirror_mode": {
    "name": "ipython",
    "version": 3
   },
   "file_extension": ".py",
   "mimetype": "text/x-python",
   "name": "python",
   "nbconvert_exporter": "python",
   "pygments_lexer": "ipython3",
   "version": "3.7.7"
  }
 },
 "nbformat": 4,
 "nbformat_minor": 4
}
