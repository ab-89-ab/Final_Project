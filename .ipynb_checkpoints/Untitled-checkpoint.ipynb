{
 "cells": [
  {
   "cell_type": "code",
   "execution_count": 19,
   "metadata": {},
   "outputs": [],
   "source": [
    "import pandas as pd\n",
    "import numpy as np\n",
    "import seaborn as sns\n",
    "import statsmodels.formula.api as smf\n",
    "import sklearn.metrics\n",
    "from sklearn.metrics import confusion_matrix, accuracy_score\n",
    "from sklearn.model_selection import train_test_split\n",
    "import matplotlib.pyplot as plt"
   ]
  },
  {
   "cell_type": "code",
   "execution_count": 20,
   "metadata": {},
   "outputs": [],
   "source": [
    "# dft=pd.read_csv('~/Downloads/home-credit-default-risk/application_test.csv')\n",
    "dftr=pd.read_csv('~/Downloads/home-credit-default-risk/application_train.csv')\n",
    "dfbb=pd.read_csv('~/Downloads/home-credit-default-risk/bureau_balance.csv')\n",
    "# dfb=pd.read_csv('~/Downloads/home-credit-default-risk/bureau.csv')\n",
    "# dfccb=pd.read_csv('~/Downloads/home-credit-default-risk/credit_card_balance.csv')\n",
    "# dfip=pd.read_csv('~/Downloads/home-credit-default-risk/installments_payments.csv')\n",
    "dfpc=pd.read_csv('~/Downloads/home-credit-default-risk/POS_CASH_balance.csv')\n",
    "dfpa=pd.read_csv('~/Downloads/home-credit-default-risk/previous_application.csv')\n",
    "# dfss=pd.read_csv('~/Downloads/home-credit-default-risk/sample_submission.csv')"
   ]
  },
  {
   "cell_type": "code",
   "execution_count": null,
   "metadata": {},
   "outputs": [],
   "source": [
    "# pandas.options.display.float_format = '{:,.2f}'.format"
   ]
  },
  {
   "cell_type": "code",
   "execution_count": 22,
   "metadata": {},
   "outputs": [
    {
     "data": {
      "text/plain": [
       "['SK_ID_CURR',\n",
       " 'TARGET',\n",
       " 'NAME_CONTRACT_TYPE',\n",
       " 'CODE_GENDER',\n",
       " 'FLAG_OWN_CAR',\n",
       " 'FLAG_OWN_REALTY',\n",
       " 'CNT_CHILDREN',\n",
       " 'AMT_INCOME_TOTAL',\n",
       " 'AMT_CREDIT',\n",
       " 'AMT_ANNUITY',\n",
       " 'AMT_GOODS_PRICE',\n",
       " 'NAME_TYPE_SUITE',\n",
       " 'NAME_INCOME_TYPE',\n",
       " 'NAME_EDUCATION_TYPE',\n",
       " 'NAME_FAMILY_STATUS',\n",
       " 'NAME_HOUSING_TYPE',\n",
       " 'REGION_POPULATION_RELATIVE',\n",
       " 'DAYS_BIRTH',\n",
       " 'DAYS_EMPLOYED',\n",
       " 'DAYS_REGISTRATION',\n",
       " 'DAYS_ID_PUBLISH',\n",
       " 'OWN_CAR_AGE',\n",
       " 'FLAG_MOBIL',\n",
       " 'FLAG_EMP_PHONE',\n",
       " 'FLAG_WORK_PHONE',\n",
       " 'FLAG_CONT_MOBILE',\n",
       " 'FLAG_PHONE',\n",
       " 'FLAG_EMAIL',\n",
       " 'OCCUPATION_TYPE',\n",
       " 'CNT_FAM_MEMBERS',\n",
       " 'REGION_RATING_CLIENT',\n",
       " 'REGION_RATING_CLIENT_W_CITY',\n",
       " 'WEEKDAY_APPR_PROCESS_START',\n",
       " 'HOUR_APPR_PROCESS_START',\n",
       " 'REG_REGION_NOT_LIVE_REGION',\n",
       " 'REG_REGION_NOT_WORK_REGION',\n",
       " 'LIVE_REGION_NOT_WORK_REGION',\n",
       " 'REG_CITY_NOT_LIVE_CITY',\n",
       " 'REG_CITY_NOT_WORK_CITY',\n",
       " 'LIVE_CITY_NOT_WORK_CITY',\n",
       " 'ORGANIZATION_TYPE',\n",
       " 'EXT_SOURCE_1',\n",
       " 'EXT_SOURCE_2',\n",
       " 'EXT_SOURCE_3',\n",
       " 'APARTMENTS_AVG',\n",
       " 'BASEMENTAREA_AVG',\n",
       " 'YEARS_BEGINEXPLUATATION_AVG',\n",
       " 'YEARS_BUILD_AVG',\n",
       " 'COMMONAREA_AVG',\n",
       " 'ELEVATORS_AVG',\n",
       " 'ENTRANCES_AVG',\n",
       " 'FLOORSMAX_AVG',\n",
       " 'FLOORSMIN_AVG',\n",
       " 'LANDAREA_AVG',\n",
       " 'LIVINGAPARTMENTS_AVG',\n",
       " 'LIVINGAREA_AVG',\n",
       " 'NONLIVINGAPARTMENTS_AVG',\n",
       " 'NONLIVINGAREA_AVG',\n",
       " 'APARTMENTS_MODE',\n",
       " 'BASEMENTAREA_MODE',\n",
       " 'YEARS_BEGINEXPLUATATION_MODE',\n",
       " 'YEARS_BUILD_MODE',\n",
       " 'COMMONAREA_MODE',\n",
       " 'ELEVATORS_MODE',\n",
       " 'ENTRANCES_MODE',\n",
       " 'FLOORSMAX_MODE',\n",
       " 'FLOORSMIN_MODE',\n",
       " 'LANDAREA_MODE',\n",
       " 'LIVINGAPARTMENTS_MODE',\n",
       " 'LIVINGAREA_MODE',\n",
       " 'NONLIVINGAPARTMENTS_MODE',\n",
       " 'NONLIVINGAREA_MODE',\n",
       " 'APARTMENTS_MEDI',\n",
       " 'BASEMENTAREA_MEDI',\n",
       " 'YEARS_BEGINEXPLUATATION_MEDI',\n",
       " 'YEARS_BUILD_MEDI',\n",
       " 'COMMONAREA_MEDI',\n",
       " 'ELEVATORS_MEDI',\n",
       " 'ENTRANCES_MEDI',\n",
       " 'FLOORSMAX_MEDI',\n",
       " 'FLOORSMIN_MEDI',\n",
       " 'LANDAREA_MEDI',\n",
       " 'LIVINGAPARTMENTS_MEDI',\n",
       " 'LIVINGAREA_MEDI',\n",
       " 'NONLIVINGAPARTMENTS_MEDI',\n",
       " 'NONLIVINGAREA_MEDI',\n",
       " 'FONDKAPREMONT_MODE',\n",
       " 'HOUSETYPE_MODE',\n",
       " 'TOTALAREA_MODE',\n",
       " 'WALLSMATERIAL_MODE',\n",
       " 'EMERGENCYSTATE_MODE',\n",
       " 'OBS_30_CNT_SOCIAL_CIRCLE',\n",
       " 'DEF_30_CNT_SOCIAL_CIRCLE',\n",
       " 'OBS_60_CNT_SOCIAL_CIRCLE',\n",
       " 'DEF_60_CNT_SOCIAL_CIRCLE',\n",
       " 'DAYS_LAST_PHONE_CHANGE',\n",
       " 'FLAG_DOCUMENT_2',\n",
       " 'FLAG_DOCUMENT_3',\n",
       " 'FLAG_DOCUMENT_4',\n",
       " 'FLAG_DOCUMENT_5',\n",
       " 'FLAG_DOCUMENT_6',\n",
       " 'FLAG_DOCUMENT_7',\n",
       " 'FLAG_DOCUMENT_8',\n",
       " 'FLAG_DOCUMENT_9',\n",
       " 'FLAG_DOCUMENT_10',\n",
       " 'FLAG_DOCUMENT_11',\n",
       " 'FLAG_DOCUMENT_12',\n",
       " 'FLAG_DOCUMENT_13',\n",
       " 'FLAG_DOCUMENT_14',\n",
       " 'FLAG_DOCUMENT_15',\n",
       " 'FLAG_DOCUMENT_16',\n",
       " 'FLAG_DOCUMENT_17',\n",
       " 'FLAG_DOCUMENT_18',\n",
       " 'FLAG_DOCUMENT_19',\n",
       " 'FLAG_DOCUMENT_20',\n",
       " 'FLAG_DOCUMENT_21',\n",
       " 'AMT_REQ_CREDIT_BUREAU_HOUR',\n",
       " 'AMT_REQ_CREDIT_BUREAU_DAY',\n",
       " 'AMT_REQ_CREDIT_BUREAU_WEEK',\n",
       " 'AMT_REQ_CREDIT_BUREAU_MON',\n",
       " 'AMT_REQ_CREDIT_BUREAU_QRT',\n",
       " 'AMT_REQ_CREDIT_BUREAU_YEAR']"
      ]
     },
     "execution_count": 22,
     "metadata": {},
     "output_type": "execute_result"
    }
   ],
   "source": [
    "dftr.columns.tolist()"
   ]
  },
  {
   "cell_type": "code",
   "execution_count": null,
   "metadata": {},
   "outputs": [],
   "source": []
  },
  {
   "cell_type": "code",
   "execution_count": 23,
   "metadata": {},
   "outputs": [],
   "source": [
    "dftr.drop(['NAME_TYPE_SUITE','FLAG_PHONE','HOUR_APPR_PROCESS_START', 'REG_REGION_NOT_WORK_REGION','LIVE_REGION_NOT_WORK_REGION', 'REG_CITY_NOT_WORK_CITY', 'LIVE_CITY_NOT_WORK_CITY','EXT_SOURCE_1','EXT_SOURCE_2','EXT_SOURCE_3','BASEMENTAREA_AVG','YEARS_BEGINEXPLUATATION_AVG','ELEVATORS_AVG',\n",
    " 'ENTRANCES_AVG',\n",
    " 'FLOORSMAX_AVG',\n",
    " 'FLOORSMIN_AVG',\n",
    " 'LANDAREA_AVG',\n",
    " 'LIVINGAPARTMENTS_AVG',\n",
    " 'LIVINGAREA_AVG',\n",
    " 'NONLIVINGAPARTMENTS_AVG',\n",
    " 'NONLIVINGAREA_AVG','BASEMENTAREA_MODE',\n",
    " 'YEARS_BEGINEXPLUATATION_MODE','ELEVATORS_MODE',\n",
    " 'ENTRANCES_MODE',\n",
    " 'FLOORSMAX_MODE',\n",
    " 'FLOORSMIN_MODE',\n",
    " 'LANDAREA_MODE',\n",
    " 'LIVINGAPARTMENTS_MODE',\n",
    " 'LIVINGAREA_MODE',\n",
    " 'NONLIVINGAPARTMENTS_MODE',\n",
    " 'NONLIVINGAREA_MODE', 'BASEMENTAREA_MEDI',\n",
    " 'YEARS_BEGINEXPLUATATION_MEDI','ELEVATORS_MEDI',\n",
    " 'ENTRANCES_MEDI',\n",
    " 'FLOORSMAX_MEDI',\n",
    " 'FLOORSMIN_MEDI',\n",
    " 'LANDAREA_MEDI',\n",
    " 'LIVINGAPARTMENTS_MEDI',\n",
    " 'LIVINGAREA_MEDI',\n",
    " 'NONLIVINGAPARTMENTS_MEDI',\n",
    " 'NONLIVINGAREA_MEDI',\n",
    " 'FONDKAPREMONT_MODE','TOTALAREA_MODE',\n",
    " 'WALLSMATERIAL_MODE',\n",
    " 'EMERGENCYSTATE_MODE','AMT_REQ_CREDIT_BUREAU_HOUR',\n",
    " 'AMT_REQ_CREDIT_BUREAU_DAY',\n",
    " 'AMT_REQ_CREDIT_BUREAU_WEEK',\n",
    " 'AMT_REQ_CREDIT_BUREAU_MON',\n",
    " 'AMT_REQ_CREDIT_BUREAU_QRT',\n",
    " 'AMT_REQ_CREDIT_BUREAU_YEAR'], axis = 1, inplace=True)"
   ]
  },
  {
   "cell_type": "code",
   "execution_count": 39,
   "metadata": {},
   "outputs": [
    {
     "name": "stdout",
     "output_type": "stream",
     "text": [
      "<class 'pandas.core.frame.DataFrame'>\n",
      "RangeIndex: 307511 entries, 0 to 307510\n",
      "Data columns (total 69 columns):\n",
      " #   Column                       Non-Null Count   Dtype  \n",
      "---  ------                       --------------   -----  \n",
      " 0   SK_ID_CURR                   307511 non-null  int64  \n",
      " 1   TARGET                       307511 non-null  int64  \n",
      " 2   NAME_CONTRACT_TYPE           307511 non-null  object \n",
      " 3   CODE_GENDER                  307511 non-null  object \n",
      " 4   FLAG_OWN_CAR                 307511 non-null  object \n",
      " 5   FLAG_OWN_REALTY              307511 non-null  object \n",
      " 6   CNT_CHILDREN                 307511 non-null  int64  \n",
      " 7   AMT_INCOME_TOTAL             307511 non-null  float64\n",
      " 8   AMT_CREDIT                   307511 non-null  float64\n",
      " 9   AMT_ANNUITY                  307499 non-null  float64\n",
      " 10  AMT_GOODS_PRICE              307233 non-null  float64\n",
      " 11  NAME_INCOME_TYPE             307511 non-null  object \n",
      " 12  NAME_EDUCATION_TYPE          307511 non-null  object \n",
      " 13  NAME_FAMILY_STATUS           307511 non-null  object \n",
      " 14  NAME_HOUSING_TYPE            307511 non-null  object \n",
      " 15  REGION_POPULATION_RELATIVE   307511 non-null  float64\n",
      " 16  DAYS_BIRTH                   307511 non-null  int64  \n",
      " 17  DAYS_EMPLOYED                307511 non-null  int64  \n",
      " 18  DAYS_REGISTRATION            307511 non-null  float64\n",
      " 19  DAYS_ID_PUBLISH              307511 non-null  int64  \n",
      " 20  OWN_CAR_AGE                  104582 non-null  float64\n",
      " 21  FLAG_MOBIL                   307511 non-null  int64  \n",
      " 22  FLAG_EMP_PHONE               307511 non-null  int64  \n",
      " 23  FLAG_WORK_PHONE              307511 non-null  int64  \n",
      " 24  FLAG_CONT_MOBILE             307511 non-null  int64  \n",
      " 25  FLAG_EMAIL                   307511 non-null  int64  \n",
      " 26  OCCUPATION_TYPE              211120 non-null  object \n",
      " 27  CNT_FAM_MEMBERS              307509 non-null  float64\n",
      " 28  REGION_RATING_CLIENT         307511 non-null  int64  \n",
      " 29  REGION_RATING_CLIENT_W_CITY  307511 non-null  int64  \n",
      " 30  WEEKDAY_APPR_PROCESS_START   307511 non-null  object \n",
      " 31  REG_REGION_NOT_LIVE_REGION   307511 non-null  int64  \n",
      " 32  REG_CITY_NOT_LIVE_CITY       307511 non-null  int64  \n",
      " 33  ORGANIZATION_TYPE            307511 non-null  object \n",
      " 34  APARTMENTS_AVG               151450 non-null  float64\n",
      " 35  YEARS_BUILD_AVG              103023 non-null  float64\n",
      " 36  COMMONAREA_AVG               92646 non-null   float64\n",
      " 37  APARTMENTS_MODE              151450 non-null  float64\n",
      " 38  YEARS_BUILD_MODE             103023 non-null  float64\n",
      " 39  COMMONAREA_MODE              92646 non-null   float64\n",
      " 40  APARTMENTS_MEDI              151450 non-null  float64\n",
      " 41  YEARS_BUILD_MEDI             103023 non-null  float64\n",
      " 42  COMMONAREA_MEDI              92646 non-null   float64\n",
      " 43  HOUSETYPE_MODE               153214 non-null  object \n",
      " 44  OBS_30_CNT_SOCIAL_CIRCLE     306490 non-null  float64\n",
      " 45  DEF_30_CNT_SOCIAL_CIRCLE     306490 non-null  float64\n",
      " 46  OBS_60_CNT_SOCIAL_CIRCLE     306490 non-null  float64\n",
      " 47  DEF_60_CNT_SOCIAL_CIRCLE     306490 non-null  float64\n",
      " 48  DAYS_LAST_PHONE_CHANGE       307510 non-null  float64\n",
      " 49  FLAG_DOCUMENT_2              307511 non-null  int64  \n",
      " 50  FLAG_DOCUMENT_3              307511 non-null  int64  \n",
      " 51  FLAG_DOCUMENT_4              307511 non-null  int64  \n",
      " 52  FLAG_DOCUMENT_5              307511 non-null  int64  \n",
      " 53  FLAG_DOCUMENT_6              307511 non-null  int64  \n",
      " 54  FLAG_DOCUMENT_7              307511 non-null  int64  \n",
      " 55  FLAG_DOCUMENT_8              307511 non-null  int64  \n",
      " 56  FLAG_DOCUMENT_9              307511 non-null  int64  \n",
      " 57  FLAG_DOCUMENT_10             307511 non-null  int64  \n",
      " 58  FLAG_DOCUMENT_11             307511 non-null  int64  \n",
      " 59  FLAG_DOCUMENT_12             307511 non-null  int64  \n",
      " 60  FLAG_DOCUMENT_13             307511 non-null  int64  \n",
      " 61  FLAG_DOCUMENT_14             307511 non-null  int64  \n",
      " 62  FLAG_DOCUMENT_15             307511 non-null  int64  \n",
      " 63  FLAG_DOCUMENT_16             307511 non-null  int64  \n",
      " 64  FLAG_DOCUMENT_17             307511 non-null  int64  \n",
      " 65  FLAG_DOCUMENT_18             307511 non-null  int64  \n",
      " 66  FLAG_DOCUMENT_19             307511 non-null  int64  \n",
      " 67  FLAG_DOCUMENT_20             307511 non-null  int64  \n",
      " 68  FLAG_DOCUMENT_21             307511 non-null  int64  \n",
      "dtypes: float64(22), int64(35), object(12)\n",
      "memory usage: 161.9+ MB\n"
     ]
    }
   ],
   "source": [
    "dftr.info()"
   ]
  },
  {
   "cell_type": "code",
   "execution_count": 48,
   "metadata": {
    "scrolled": false
   },
   "outputs": [],
   "source": [
    "dftr[dftr['CODE_GENDER']=='XNA']\n",
    "dftr.drop(dftr.index[[35657,38566,83382,189640]],inplace=True)"
   ]
  },
  {
   "cell_type": "code",
   "execution_count": 50,
   "metadata": {},
   "outputs": [
    {
     "data": {
      "text/html": [
       "<div>\n",
       "<style scoped>\n",
       "    .dataframe tbody tr th:only-of-type {\n",
       "        vertical-align: middle;\n",
       "    }\n",
       "\n",
       "    .dataframe tbody tr th {\n",
       "        vertical-align: top;\n",
       "    }\n",
       "\n",
       "    .dataframe thead th {\n",
       "        text-align: right;\n",
       "    }\n",
       "</style>\n",
       "<table border=\"1\" class=\"dataframe\">\n",
       "  <thead>\n",
       "    <tr style=\"text-align: right;\">\n",
       "      <th></th>\n",
       "      <th>SK_ID_CURR</th>\n",
       "      <th>TARGET</th>\n",
       "      <th>NAME_CONTRACT_TYPE</th>\n",
       "      <th>CODE_GENDER</th>\n",
       "      <th>FLAG_OWN_CAR</th>\n",
       "      <th>FLAG_OWN_REALTY</th>\n",
       "      <th>CNT_CHILDREN</th>\n",
       "      <th>AMT_INCOME_TOTAL</th>\n",
       "      <th>AMT_CREDIT</th>\n",
       "      <th>AMT_ANNUITY</th>\n",
       "      <th>...</th>\n",
       "      <th>FLAG_DOCUMENT_12</th>\n",
       "      <th>FLAG_DOCUMENT_13</th>\n",
       "      <th>FLAG_DOCUMENT_14</th>\n",
       "      <th>FLAG_DOCUMENT_15</th>\n",
       "      <th>FLAG_DOCUMENT_16</th>\n",
       "      <th>FLAG_DOCUMENT_17</th>\n",
       "      <th>FLAG_DOCUMENT_18</th>\n",
       "      <th>FLAG_DOCUMENT_19</th>\n",
       "      <th>FLAG_DOCUMENT_20</th>\n",
       "      <th>FLAG_DOCUMENT_21</th>\n",
       "    </tr>\n",
       "  </thead>\n",
       "  <tbody>\n",
       "  </tbody>\n",
       "</table>\n",
       "<p>0 rows × 69 columns</p>\n",
       "</div>"
      ],
      "text/plain": [
       "Empty DataFrame\n",
       "Columns: [SK_ID_CURR, TARGET, NAME_CONTRACT_TYPE, CODE_GENDER, FLAG_OWN_CAR, FLAG_OWN_REALTY, CNT_CHILDREN, AMT_INCOME_TOTAL, AMT_CREDIT, AMT_ANNUITY, AMT_GOODS_PRICE, NAME_INCOME_TYPE, NAME_EDUCATION_TYPE, NAME_FAMILY_STATUS, NAME_HOUSING_TYPE, REGION_POPULATION_RELATIVE, DAYS_BIRTH, DAYS_EMPLOYED, DAYS_REGISTRATION, DAYS_ID_PUBLISH, OWN_CAR_AGE, FLAG_MOBIL, FLAG_EMP_PHONE, FLAG_WORK_PHONE, FLAG_CONT_MOBILE, FLAG_EMAIL, OCCUPATION_TYPE, CNT_FAM_MEMBERS, REGION_RATING_CLIENT, REGION_RATING_CLIENT_W_CITY, WEEKDAY_APPR_PROCESS_START, REG_REGION_NOT_LIVE_REGION, REG_CITY_NOT_LIVE_CITY, ORGANIZATION_TYPE, APARTMENTS_AVG, YEARS_BUILD_AVG, COMMONAREA_AVG, APARTMENTS_MODE, YEARS_BUILD_MODE, COMMONAREA_MODE, APARTMENTS_MEDI, YEARS_BUILD_MEDI, COMMONAREA_MEDI, HOUSETYPE_MODE, OBS_30_CNT_SOCIAL_CIRCLE, DEF_30_CNT_SOCIAL_CIRCLE, OBS_60_CNT_SOCIAL_CIRCLE, DEF_60_CNT_SOCIAL_CIRCLE, DAYS_LAST_PHONE_CHANGE, FLAG_DOCUMENT_2, FLAG_DOCUMENT_3, FLAG_DOCUMENT_4, FLAG_DOCUMENT_5, FLAG_DOCUMENT_6, FLAG_DOCUMENT_7, FLAG_DOCUMENT_8, FLAG_DOCUMENT_9, FLAG_DOCUMENT_10, FLAG_DOCUMENT_11, FLAG_DOCUMENT_12, FLAG_DOCUMENT_13, FLAG_DOCUMENT_14, FLAG_DOCUMENT_15, FLAG_DOCUMENT_16, FLAG_DOCUMENT_17, FLAG_DOCUMENT_18, FLAG_DOCUMENT_19, FLAG_DOCUMENT_20, FLAG_DOCUMENT_21]\n",
       "Index: []\n",
       "\n",
       "[0 rows x 69 columns]"
      ]
     },
     "execution_count": 50,
     "metadata": {},
     "output_type": "execute_result"
    }
   ],
   "source": [
    "dftr[dftr['CODE_GENDER']=='XNA']"
   ]
  },
  {
   "cell_type": "code",
   "execution_count": 52,
   "metadata": {},
   "outputs": [],
   "source": [
    "dftr['age']= (dftr['DAYS_BIRTH']/-365).round(0)"
   ]
  },
  {
   "cell_type": "code",
   "execution_count": 84,
   "metadata": {},
   "outputs": [],
   "source": [
    "X = dftr[['NAME_HOUSING_TYPE','AMT_CREDIT','NAME_FAMILY_STATUS','OCCUPATION_TYPE','CODE_GENDER','NAME_EDUCATION_TYPE','age','CNT_CHILDREN']]\n",
    "y = dftr['TARGET']\n",
    "X_train,X_test,y_train,y_test = train_test_split(X,y,test_size=0.25,random_state=0)"
   ]
  },
  {
   "cell_type": "code",
   "execution_count": null,
   "metadata": {},
   "outputs": [],
   "source": []
  },
  {
   "cell_type": "code",
   "execution_count": 88,
   "metadata": {
    "scrolled": true
   },
   "outputs": [
    {
     "name": "stdout",
     "output_type": "stream",
     "text": [
      "Warning: Maximum number of iterations has been exceeded.\n",
      "         Current function value: 0.291529\n",
      "         Iterations: 35\n"
     ]
    },
    {
     "name": "stderr",
     "output_type": "stream",
     "text": [
      "/Users/assel/miniconda3/lib/python3.7/site-packages/statsmodels/base/model.py:568: ConvergenceWarning: Maximum Likelihood optimization failed to converge. Check mle_retvals\n",
      "  \"Check mle_retvals\", ConvergenceWarning)\n"
     ]
    },
    {
     "data": {
      "text/plain": [
       "array([[1.9257e+05, 0.0000e+00],\n",
       "       [1.8544e+04, 3.0000e+00]])"
      ]
     },
     "execution_count": 88,
     "metadata": {},
     "output_type": "execute_result"
    }
   ],
   "source": [
    "fitted_model = smf.logit(formula='TARGET ~ age +C(OCCUPATION_TYPE)+C(CODE_GENDER)+C(CNT_CHILDREN)', data=dftr).fit()\n",
    "fitted_model.pred_table()\n"
   ]
  },
  {
   "cell_type": "code",
   "execution_count": 86,
   "metadata": {},
   "outputs": [
    {
     "data": {
      "text/html": [
       "<table class=\"simpletable\">\n",
       "<caption>Logit Regression Results</caption>\n",
       "<tr>\n",
       "  <th>Dep. Variable:</th>        <td>TARGET</td>      <th>  No. Observations:  </th>  <td>211117</td> \n",
       "</tr>\n",
       "<tr>\n",
       "  <th>Model:</th>                 <td>Logit</td>      <th>  Df Residuals:      </th>  <td>211097</td> \n",
       "</tr>\n",
       "<tr>\n",
       "  <th>Method:</th>                 <td>MLE</td>       <th>  Df Model:          </th>  <td>    19</td> \n",
       "</tr>\n",
       "<tr>\n",
       "  <th>Date:</th>            <td>Thu, 17 Sep 2020</td> <th>  Pseudo R-squ.:     </th>  <td>0.01984</td>\n",
       "</tr>\n",
       "<tr>\n",
       "  <th>Time:</th>                <td>17:52:12</td>     <th>  Log-Likelihood:    </th> <td> -61569.</td>\n",
       "</tr>\n",
       "<tr>\n",
       "  <th>converged:</th>             <td>True</td>       <th>  LL-Null:           </th> <td> -62816.</td>\n",
       "</tr>\n",
       "<tr>\n",
       "  <th>Covariance Type:</th>     <td>nonrobust</td>    <th>  LLR p-value:       </th>  <td> 0.000</td> \n",
       "</tr>\n",
       "</table>\n",
       "<table class=\"simpletable\">\n",
       "<tr>\n",
       "                       <td></td>                          <th>coef</th>     <th>std err</th>      <th>z</th>      <th>P>|z|</th>  <th>[0.025</th>    <th>0.975]</th>  \n",
       "</tr>\n",
       "<tr>\n",
       "  <th>Intercept</th>                                   <td>   -2.0143</td> <td>    0.057</td> <td>  -35.526</td> <td> 0.000</td> <td>   -2.125</td> <td>   -1.903</td>\n",
       "</tr>\n",
       "<tr>\n",
       "  <th>C(OCCUPATION_TYPE)[T.Cleaning staff]</th>        <td>    0.9025</td> <td>    0.069</td> <td>   13.099</td> <td> 0.000</td> <td>    0.767</td> <td>    1.038</td>\n",
       "</tr>\n",
       "<tr>\n",
       "  <th>C(OCCUPATION_TYPE)[T.Cooking staff]</th>         <td>    0.8480</td> <td>    0.064</td> <td>   13.348</td> <td> 0.000</td> <td>    0.723</td> <td>    0.972</td>\n",
       "</tr>\n",
       "<tr>\n",
       "  <th>C(OCCUPATION_TYPE)[T.Core staff]</th>            <td>    0.2061</td> <td>    0.053</td> <td>    3.856</td> <td> 0.000</td> <td>    0.101</td> <td>    0.311</td>\n",
       "</tr>\n",
       "<tr>\n",
       "  <th>C(OCCUPATION_TYPE)[T.Drivers]</th>               <td>    0.8070</td> <td>    0.055</td> <td>   14.542</td> <td> 0.000</td> <td>    0.698</td> <td>    0.916</td>\n",
       "</tr>\n",
       "<tr>\n",
       "  <th>C(OCCUPATION_TYPE)[T.HR staff]</th>              <td>    0.2606</td> <td>    0.179</td> <td>    1.457</td> <td> 0.145</td> <td>   -0.090</td> <td>    0.611</td>\n",
       "</tr>\n",
       "<tr>\n",
       "  <th>C(OCCUPATION_TYPE)[T.High skill tech staff]</th> <td>    0.2001</td> <td>    0.062</td> <td>    3.247</td> <td> 0.001</td> <td>    0.079</td> <td>    0.321</td>\n",
       "</tr>\n",
       "<tr>\n",
       "  <th>C(OCCUPATION_TYPE)[T.IT staff]</th>              <td>    0.0757</td> <td>    0.184</td> <td>    0.411</td> <td> 0.681</td> <td>   -0.285</td> <td>    0.437</td>\n",
       "</tr>\n",
       "<tr>\n",
       "  <th>C(OCCUPATION_TYPE)[T.Laborers]</th>              <td>    0.7563</td> <td>    0.050</td> <td>   14.999</td> <td> 0.000</td> <td>    0.657</td> <td>    0.855</td>\n",
       "</tr>\n",
       "<tr>\n",
       "  <th>C(OCCUPATION_TYPE)[T.Low-skill Laborers]</th>    <td>    1.2480</td> <td>    0.077</td> <td>   16.291</td> <td> 0.000</td> <td>    1.098</td> <td>    1.398</td>\n",
       "</tr>\n",
       "<tr>\n",
       "  <th>C(OCCUPATION_TYPE)[T.Managers]</th>              <td>    0.2410</td> <td>    0.056</td> <td>    4.319</td> <td> 0.000</td> <td>    0.132</td> <td>    0.350</td>\n",
       "</tr>\n",
       "<tr>\n",
       "  <th>C(OCCUPATION_TYPE)[T.Medicine staff]</th>        <td>    0.3997</td> <td>    0.064</td> <td>    6.236</td> <td> 0.000</td> <td>    0.274</td> <td>    0.525</td>\n",
       "</tr>\n",
       "<tr>\n",
       "  <th>C(OCCUPATION_TYPE)[T.Private service staff]</th> <td>    0.2968</td> <td>    0.091</td> <td>    3.246</td> <td> 0.001</td> <td>    0.118</td> <td>    0.476</td>\n",
       "</tr>\n",
       "<tr>\n",
       "  <th>C(OCCUPATION_TYPE)[T.Realty agents]</th>         <td>    0.4619</td> <td>    0.144</td> <td>    3.212</td> <td> 0.001</td> <td>    0.180</td> <td>    0.744</td>\n",
       "</tr>\n",
       "<tr>\n",
       "  <th>C(OCCUPATION_TYPE)[T.Sales staff]</th>           <td>    0.6786</td> <td>    0.051</td> <td>   13.337</td> <td> 0.000</td> <td>    0.579</td> <td>    0.778</td>\n",
       "</tr>\n",
       "<tr>\n",
       "  <th>C(OCCUPATION_TYPE)[T.Secretaries]</th>           <td>    0.3451</td> <td>    0.118</td> <td>    2.920</td> <td> 0.003</td> <td>    0.113</td> <td>    0.577</td>\n",
       "</tr>\n",
       "<tr>\n",
       "  <th>C(OCCUPATION_TYPE)[T.Security staff]</th>        <td>    0.8753</td> <td>    0.063</td> <td>   13.848</td> <td> 0.000</td> <td>    0.751</td> <td>    0.999</td>\n",
       "</tr>\n",
       "<tr>\n",
       "  <th>C(OCCUPATION_TYPE)[T.Waiters/barmen staff]</th>  <td>    0.7848</td> <td>    0.099</td> <td>    7.966</td> <td> 0.000</td> <td>    0.592</td> <td>    0.978</td>\n",
       "</tr>\n",
       "<tr>\n",
       "  <th>C(CODE_GENDER)[T.M]</th>                         <td>    0.1542</td> <td>    0.019</td> <td>    8.010</td> <td> 0.000</td> <td>    0.116</td> <td>    0.192</td>\n",
       "</tr>\n",
       "<tr>\n",
       "  <th>age</th>                                         <td>   -0.0246</td> <td>    0.001</td> <td>  -30.092</td> <td> 0.000</td> <td>   -0.026</td> <td>   -0.023</td>\n",
       "</tr>\n",
       "</table>"
      ],
      "text/plain": [
       "<class 'statsmodels.iolib.summary.Summary'>\n",
       "\"\"\"\n",
       "                           Logit Regression Results                           \n",
       "==============================================================================\n",
       "Dep. Variable:                 TARGET   No. Observations:               211117\n",
       "Model:                          Logit   Df Residuals:                   211097\n",
       "Method:                           MLE   Df Model:                           19\n",
       "Date:                Thu, 17 Sep 2020   Pseudo R-squ.:                 0.01984\n",
       "Time:                        17:52:12   Log-Likelihood:                -61569.\n",
       "converged:                       True   LL-Null:                       -62816.\n",
       "Covariance Type:            nonrobust   LLR p-value:                     0.000\n",
       "===============================================================================================================\n",
       "                                                  coef    std err          z      P>|z|      [0.025      0.975]\n",
       "---------------------------------------------------------------------------------------------------------------\n",
       "Intercept                                      -2.0143      0.057    -35.526      0.000      -2.125      -1.903\n",
       "C(OCCUPATION_TYPE)[T.Cleaning staff]            0.9025      0.069     13.099      0.000       0.767       1.038\n",
       "C(OCCUPATION_TYPE)[T.Cooking staff]             0.8480      0.064     13.348      0.000       0.723       0.972\n",
       "C(OCCUPATION_TYPE)[T.Core staff]                0.2061      0.053      3.856      0.000       0.101       0.311\n",
       "C(OCCUPATION_TYPE)[T.Drivers]                   0.8070      0.055     14.542      0.000       0.698       0.916\n",
       "C(OCCUPATION_TYPE)[T.HR staff]                  0.2606      0.179      1.457      0.145      -0.090       0.611\n",
       "C(OCCUPATION_TYPE)[T.High skill tech staff]     0.2001      0.062      3.247      0.001       0.079       0.321\n",
       "C(OCCUPATION_TYPE)[T.IT staff]                  0.0757      0.184      0.411      0.681      -0.285       0.437\n",
       "C(OCCUPATION_TYPE)[T.Laborers]                  0.7563      0.050     14.999      0.000       0.657       0.855\n",
       "C(OCCUPATION_TYPE)[T.Low-skill Laborers]        1.2480      0.077     16.291      0.000       1.098       1.398\n",
       "C(OCCUPATION_TYPE)[T.Managers]                  0.2410      0.056      4.319      0.000       0.132       0.350\n",
       "C(OCCUPATION_TYPE)[T.Medicine staff]            0.3997      0.064      6.236      0.000       0.274       0.525\n",
       "C(OCCUPATION_TYPE)[T.Private service staff]     0.2968      0.091      3.246      0.001       0.118       0.476\n",
       "C(OCCUPATION_TYPE)[T.Realty agents]             0.4619      0.144      3.212      0.001       0.180       0.744\n",
       "C(OCCUPATION_TYPE)[T.Sales staff]               0.6786      0.051     13.337      0.000       0.579       0.778\n",
       "C(OCCUPATION_TYPE)[T.Secretaries]               0.3451      0.118      2.920      0.003       0.113       0.577\n",
       "C(OCCUPATION_TYPE)[T.Security staff]            0.8753      0.063     13.848      0.000       0.751       0.999\n",
       "C(OCCUPATION_TYPE)[T.Waiters/barmen staff]      0.7848      0.099      7.966      0.000       0.592       0.978\n",
       "C(CODE_GENDER)[T.M]                             0.1542      0.019      8.010      0.000       0.116       0.192\n",
       "age                                            -0.0246      0.001    -30.092      0.000      -0.026      -0.023\n",
       "===============================================================================================================\n",
       "\"\"\""
      ]
     },
     "execution_count": 86,
     "metadata": {},
     "output_type": "execute_result"
    }
   ],
   "source": [
    "fitted_model.summary()"
   ]
  },
  {
   "cell_type": "code",
   "execution_count": null,
   "metadata": {},
   "outputs": [],
   "source": []
  },
  {
   "cell_type": "code",
   "execution_count": 8,
   "metadata": {},
   "outputs": [],
   "source": [
    "# dftr.to_csv(r'~/Desktop/fortab.csv')"
   ]
  },
  {
   "cell_type": "code",
   "execution_count": 9,
   "metadata": {},
   "outputs": [],
   "source": [
    "# df = dftr.sample(frac =.25)"
   ]
  },
  {
   "cell_type": "code",
   "execution_count": 10,
   "metadata": {},
   "outputs": [],
   "source": [
    "# dftr['CODE_GENDER']\n",
    "# dftr.loc[dftr['CODE_GENDER'] == 'XNA']"
   ]
  },
  {
   "cell_type": "code",
   "execution_count": 29,
   "metadata": {},
   "outputs": [],
   "source": [
    "# plt.figure(figsize=(6, 5))\n",
    "# yaxis = dftr['TARGET'].value_counts().values / dftr.shape[0]\n",
    "# barplot = sns.barplot(x=[0,1], y=yaxis, palette = 'bright')\n",
    "# for p in barplot.patches:\n",
    "#     barplot.annotate(format(p.get_height()*100, '.2f'), (p.get_x() + p.get_width() / 2., p.get_height()), ha = 'center', va = 'center', xytext = (0, 5), textcoords = 'offset points')\n",
    "# plt.title(\"Overall Percentage of Paid vs Not Paid\")\n",
    "# plt.xlabel('0= Paid Off   1=Not Paid Off')\n",
    "# plt.ylabel('Percentage')"
   ]
  },
  {
   "cell_type": "code",
   "execution_count": null,
   "metadata": {},
   "outputs": [],
   "source": []
  },
  {
   "cell_type": "code",
   "execution_count": 52,
   "metadata": {},
   "outputs": [],
   "source": [
    "from sklearn.model_selection import train_test_split"
   ]
  },
  {
   "cell_type": "code",
   "execution_count": 53,
   "metadata": {},
   "outputs": [],
   "source": [
    "X = dftr[['NAME_HOUSING_TYPE','AMT_CREDIT','NAME_FAMILY_STATUS','OCCUPATION_TYPE','CODE_GENDER','NAME_EDUCATION_TYPE','age','CNT_CHILDREN','TARGET']]"
   ]
  },
  {
   "cell_type": "code",
   "execution_count": 54,
   "metadata": {},
   "outputs": [],
   "source": [
    "y = dftr['AMT_INCOME_TOTAL']"
   ]
  },
  {
   "cell_type": "code",
   "execution_count": 55,
   "metadata": {},
   "outputs": [],
   "source": [
    "X_train, X_test, y_train, y_test = train_test_split(X,y,test_size = 0.2)"
   ]
  },
  {
   "cell_type": "code",
   "execution_count": 17,
   "metadata": {},
   "outputs": [
    {
     "data": {
      "text/html": [
       "<div>\n",
       "<style scoped>\n",
       "    .dataframe tbody tr th:only-of-type {\n",
       "        vertical-align: middle;\n",
       "    }\n",
       "\n",
       "    .dataframe tbody tr th {\n",
       "        vertical-align: top;\n",
       "    }\n",
       "\n",
       "    .dataframe thead th {\n",
       "        text-align: right;\n",
       "    }\n",
       "</style>\n",
       "<table border=\"1\" class=\"dataframe\">\n",
       "  <thead>\n",
       "    <tr style=\"text-align: right;\">\n",
       "      <th></th>\n",
       "      <th>AMT_INCOME_TOTAL</th>\n",
       "      <th>NAME_HOUSING_TYPE</th>\n",
       "      <th>AMT_CREDIT</th>\n",
       "      <th>NAME_FAMILY_STATUS</th>\n",
       "      <th>OCCUPATION_TYPE</th>\n",
       "      <th>CODE_GENDER</th>\n",
       "      <th>NAME_EDUCATION_TYPE</th>\n",
       "      <th>age</th>\n",
       "      <th>TARGET</th>\n",
       "    </tr>\n",
       "  </thead>\n",
       "  <tbody>\n",
       "    <tr>\n",
       "      <th>161433</th>\n",
       "      <td>162000.0</td>\n",
       "      <td>House / apartment</td>\n",
       "      <td>157500.0</td>\n",
       "      <td>Married</td>\n",
       "      <td>NaN</td>\n",
       "      <td>M</td>\n",
       "      <td>Secondary / secondary special</td>\n",
       "      <td>60.0</td>\n",
       "      <td>0</td>\n",
       "    </tr>\n",
       "    <tr>\n",
       "      <th>123492</th>\n",
       "      <td>99000.0</td>\n",
       "      <td>House / apartment</td>\n",
       "      <td>270000.0</td>\n",
       "      <td>Married</td>\n",
       "      <td>Laborers</td>\n",
       "      <td>F</td>\n",
       "      <td>Secondary / secondary special</td>\n",
       "      <td>57.0</td>\n",
       "      <td>0</td>\n",
       "    </tr>\n",
       "    <tr>\n",
       "      <th>5883</th>\n",
       "      <td>103500.0</td>\n",
       "      <td>House / apartment</td>\n",
       "      <td>305221.5</td>\n",
       "      <td>Widow</td>\n",
       "      <td>NaN</td>\n",
       "      <td>F</td>\n",
       "      <td>Secondary / secondary special</td>\n",
       "      <td>58.0</td>\n",
       "      <td>0</td>\n",
       "    </tr>\n",
       "    <tr>\n",
       "      <th>285460</th>\n",
       "      <td>157500.0</td>\n",
       "      <td>House / apartment</td>\n",
       "      <td>473760.0</td>\n",
       "      <td>Married</td>\n",
       "      <td>NaN</td>\n",
       "      <td>F</td>\n",
       "      <td>Secondary / secondary special</td>\n",
       "      <td>64.0</td>\n",
       "      <td>0</td>\n",
       "    </tr>\n",
       "    <tr>\n",
       "      <th>272971</th>\n",
       "      <td>225000.0</td>\n",
       "      <td>House / apartment</td>\n",
       "      <td>900000.0</td>\n",
       "      <td>Married</td>\n",
       "      <td>Laborers</td>\n",
       "      <td>F</td>\n",
       "      <td>Secondary / secondary special</td>\n",
       "      <td>54.0</td>\n",
       "      <td>0</td>\n",
       "    </tr>\n",
       "    <tr>\n",
       "      <th>...</th>\n",
       "      <td>...</td>\n",
       "      <td>...</td>\n",
       "      <td>...</td>\n",
       "      <td>...</td>\n",
       "      <td>...</td>\n",
       "      <td>...</td>\n",
       "      <td>...</td>\n",
       "      <td>...</td>\n",
       "      <td>...</td>\n",
       "    </tr>\n",
       "    <tr>\n",
       "      <th>62373</th>\n",
       "      <td>225000.0</td>\n",
       "      <td>House / apartment</td>\n",
       "      <td>651600.0</td>\n",
       "      <td>Civil marriage</td>\n",
       "      <td>NaN</td>\n",
       "      <td>F</td>\n",
       "      <td>Secondary / secondary special</td>\n",
       "      <td>43.0</td>\n",
       "      <td>1</td>\n",
       "    </tr>\n",
       "    <tr>\n",
       "      <th>258687</th>\n",
       "      <td>112500.0</td>\n",
       "      <td>House / apartment</td>\n",
       "      <td>270000.0</td>\n",
       "      <td>Married</td>\n",
       "      <td>Accountants</td>\n",
       "      <td>F</td>\n",
       "      <td>Secondary / secondary special</td>\n",
       "      <td>41.0</td>\n",
       "      <td>0</td>\n",
       "    </tr>\n",
       "    <tr>\n",
       "      <th>255465</th>\n",
       "      <td>58500.0</td>\n",
       "      <td>House / apartment</td>\n",
       "      <td>202500.0</td>\n",
       "      <td>Married</td>\n",
       "      <td>NaN</td>\n",
       "      <td>F</td>\n",
       "      <td>Secondary / secondary special</td>\n",
       "      <td>57.0</td>\n",
       "      <td>0</td>\n",
       "    </tr>\n",
       "    <tr>\n",
       "      <th>252884</th>\n",
       "      <td>360000.0</td>\n",
       "      <td>House / apartment</td>\n",
       "      <td>900000.0</td>\n",
       "      <td>Married</td>\n",
       "      <td>Managers</td>\n",
       "      <td>F</td>\n",
       "      <td>Higher education</td>\n",
       "      <td>43.0</td>\n",
       "      <td>0</td>\n",
       "    </tr>\n",
       "    <tr>\n",
       "      <th>227958</th>\n",
       "      <td>112500.0</td>\n",
       "      <td>House / apartment</td>\n",
       "      <td>808650.0</td>\n",
       "      <td>Married</td>\n",
       "      <td>NaN</td>\n",
       "      <td>M</td>\n",
       "      <td>Secondary / secondary special</td>\n",
       "      <td>59.0</td>\n",
       "      <td>0</td>\n",
       "    </tr>\n",
       "  </tbody>\n",
       "</table>\n",
       "<p>246008 rows × 9 columns</p>\n",
       "</div>"
      ],
      "text/plain": [
       "        AMT_INCOME_TOTAL  NAME_HOUSING_TYPE  AMT_CREDIT NAME_FAMILY_STATUS  \\\n",
       "161433          162000.0  House / apartment    157500.0            Married   \n",
       "123492           99000.0  House / apartment    270000.0            Married   \n",
       "5883            103500.0  House / apartment    305221.5              Widow   \n",
       "285460          157500.0  House / apartment    473760.0            Married   \n",
       "272971          225000.0  House / apartment    900000.0            Married   \n",
       "...                  ...                ...         ...                ...   \n",
       "62373           225000.0  House / apartment    651600.0     Civil marriage   \n",
       "258687          112500.0  House / apartment    270000.0            Married   \n",
       "255465           58500.0  House / apartment    202500.0            Married   \n",
       "252884          360000.0  House / apartment    900000.0            Married   \n",
       "227958          112500.0  House / apartment    808650.0            Married   \n",
       "\n",
       "       OCCUPATION_TYPE CODE_GENDER            NAME_EDUCATION_TYPE   age  \\\n",
       "161433             NaN           M  Secondary / secondary special  60.0   \n",
       "123492        Laborers           F  Secondary / secondary special  57.0   \n",
       "5883               NaN           F  Secondary / secondary special  58.0   \n",
       "285460             NaN           F  Secondary / secondary special  64.0   \n",
       "272971        Laborers           F  Secondary / secondary special  54.0   \n",
       "...                ...         ...                            ...   ...   \n",
       "62373              NaN           F  Secondary / secondary special  43.0   \n",
       "258687     Accountants           F  Secondary / secondary special  41.0   \n",
       "255465             NaN           F  Secondary / secondary special  57.0   \n",
       "252884        Managers           F               Higher education  43.0   \n",
       "227958             NaN           M  Secondary / secondary special  59.0   \n",
       "\n",
       "        TARGET  \n",
       "161433       0  \n",
       "123492       0  \n",
       "5883         0  \n",
       "285460       0  \n",
       "272971       0  \n",
       "...        ...  \n",
       "62373        1  \n",
       "258687       0  \n",
       "255465       0  \n",
       "252884       0  \n",
       "227958       0  \n",
       "\n",
       "[246008 rows x 9 columns]"
      ]
     },
     "execution_count": 17,
     "metadata": {},
     "output_type": "execute_result"
    }
   ],
   "source": [
    "dftr_train = pd.concat([X_train, y_train], axis = 1)\n",
    "dftr_train"
   ]
  },
  {
   "cell_type": "code",
   "execution_count": 33,
   "metadata": {},
   "outputs": [
    {
     "data": {
      "text/html": [
       "<div>\n",
       "<style scoped>\n",
       "    .dataframe tbody tr th:only-of-type {\n",
       "        vertical-align: middle;\n",
       "    }\n",
       "\n",
       "    .dataframe tbody tr th {\n",
       "        vertical-align: top;\n",
       "    }\n",
       "\n",
       "    .dataframe thead th {\n",
       "        text-align: right;\n",
       "    }\n",
       "</style>\n",
       "<table border=\"1\" class=\"dataframe\">\n",
       "  <thead>\n",
       "    <tr style=\"text-align: right;\">\n",
       "      <th></th>\n",
       "      <th>NAME_HOUSING_TYPE</th>\n",
       "      <th>AMT_CREDIT</th>\n",
       "      <th>NAME_FAMILY_STATUS</th>\n",
       "      <th>OCCUPATION_TYPE</th>\n",
       "      <th>CODE_GENDER</th>\n",
       "      <th>NAME_EDUCATION_TYPE</th>\n",
       "      <th>age</th>\n",
       "      <th>CNT_CHILDREN</th>\n",
       "      <th>TARGET</th>\n",
       "      <th>AMT_INCOME_TOTAL</th>\n",
       "    </tr>\n",
       "  </thead>\n",
       "  <tbody>\n",
       "    <tr>\n",
       "      <th>13209</th>\n",
       "      <td>House / apartment</td>\n",
       "      <td>675000.0</td>\n",
       "      <td>Civil marriage</td>\n",
       "      <td>Sales staff</td>\n",
       "      <td>M</td>\n",
       "      <td>Secondary / secondary special</td>\n",
       "      <td>34.0</td>\n",
       "      <td>0</td>\n",
       "      <td>0</td>\n",
       "      <td>225000.0</td>\n",
       "    </tr>\n",
       "    <tr>\n",
       "      <th>287141</th>\n",
       "      <td>House / apartment</td>\n",
       "      <td>1185282.0</td>\n",
       "      <td>Married</td>\n",
       "      <td>Laborers</td>\n",
       "      <td>M</td>\n",
       "      <td>Secondary / secondary special</td>\n",
       "      <td>56.0</td>\n",
       "      <td>0</td>\n",
       "      <td>0</td>\n",
       "      <td>202500.0</td>\n",
       "    </tr>\n",
       "    <tr>\n",
       "      <th>95937</th>\n",
       "      <td>House / apartment</td>\n",
       "      <td>202500.0</td>\n",
       "      <td>Married</td>\n",
       "      <td>NaN</td>\n",
       "      <td>F</td>\n",
       "      <td>Secondary / secondary special</td>\n",
       "      <td>60.0</td>\n",
       "      <td>0</td>\n",
       "      <td>0</td>\n",
       "      <td>67500.0</td>\n",
       "    </tr>\n",
       "    <tr>\n",
       "      <th>286056</th>\n",
       "      <td>House / apartment</td>\n",
       "      <td>253737.0</td>\n",
       "      <td>Single / not married</td>\n",
       "      <td>NaN</td>\n",
       "      <td>F</td>\n",
       "      <td>Secondary / secondary special</td>\n",
       "      <td>62.0</td>\n",
       "      <td>0</td>\n",
       "      <td>0</td>\n",
       "      <td>157500.0</td>\n",
       "    </tr>\n",
       "    <tr>\n",
       "      <th>75157</th>\n",
       "      <td>House / apartment</td>\n",
       "      <td>112500.0</td>\n",
       "      <td>Married</td>\n",
       "      <td>Laborers</td>\n",
       "      <td>M</td>\n",
       "      <td>Secondary / secondary special</td>\n",
       "      <td>33.0</td>\n",
       "      <td>1</td>\n",
       "      <td>0</td>\n",
       "      <td>112500.0</td>\n",
       "    </tr>\n",
       "    <tr>\n",
       "      <th>...</th>\n",
       "      <td>...</td>\n",
       "      <td>...</td>\n",
       "      <td>...</td>\n",
       "      <td>...</td>\n",
       "      <td>...</td>\n",
       "      <td>...</td>\n",
       "      <td>...</td>\n",
       "      <td>...</td>\n",
       "      <td>...</td>\n",
       "      <td>...</td>\n",
       "    </tr>\n",
       "    <tr>\n",
       "      <th>187797</th>\n",
       "      <td>With parents</td>\n",
       "      <td>269550.0</td>\n",
       "      <td>Married</td>\n",
       "      <td>Sales staff</td>\n",
       "      <td>F</td>\n",
       "      <td>Secondary / secondary special</td>\n",
       "      <td>27.0</td>\n",
       "      <td>2</td>\n",
       "      <td>0</td>\n",
       "      <td>135000.0</td>\n",
       "    </tr>\n",
       "    <tr>\n",
       "      <th>115479</th>\n",
       "      <td>House / apartment</td>\n",
       "      <td>592560.0</td>\n",
       "      <td>Married</td>\n",
       "      <td>Sales staff</td>\n",
       "      <td>F</td>\n",
       "      <td>Secondary / secondary special</td>\n",
       "      <td>32.0</td>\n",
       "      <td>3</td>\n",
       "      <td>0</td>\n",
       "      <td>90000.0</td>\n",
       "    </tr>\n",
       "    <tr>\n",
       "      <th>172222</th>\n",
       "      <td>House / apartment</td>\n",
       "      <td>808650.0</td>\n",
       "      <td>Single / not married</td>\n",
       "      <td>NaN</td>\n",
       "      <td>F</td>\n",
       "      <td>Secondary / secondary special</td>\n",
       "      <td>35.0</td>\n",
       "      <td>2</td>\n",
       "      <td>0</td>\n",
       "      <td>135000.0</td>\n",
       "    </tr>\n",
       "    <tr>\n",
       "      <th>276805</th>\n",
       "      <td>House / apartment</td>\n",
       "      <td>509400.0</td>\n",
       "      <td>Married</td>\n",
       "      <td>NaN</td>\n",
       "      <td>M</td>\n",
       "      <td>Secondary / secondary special</td>\n",
       "      <td>30.0</td>\n",
       "      <td>0</td>\n",
       "      <td>0</td>\n",
       "      <td>247500.0</td>\n",
       "    </tr>\n",
       "    <tr>\n",
       "      <th>273109</th>\n",
       "      <td>House / apartment</td>\n",
       "      <td>234000.0</td>\n",
       "      <td>Married</td>\n",
       "      <td>Laborers</td>\n",
       "      <td>F</td>\n",
       "      <td>Secondary / secondary special</td>\n",
       "      <td>45.0</td>\n",
       "      <td>0</td>\n",
       "      <td>0</td>\n",
       "      <td>90000.0</td>\n",
       "    </tr>\n",
       "  </tbody>\n",
       "</table>\n",
       "<p>61503 rows × 10 columns</p>\n",
       "</div>"
      ],
      "text/plain": [
       "        NAME_HOUSING_TYPE  AMT_CREDIT    NAME_FAMILY_STATUS OCCUPATION_TYPE  \\\n",
       "13209   House / apartment    675000.0        Civil marriage     Sales staff   \n",
       "287141  House / apartment   1185282.0               Married        Laborers   \n",
       "95937   House / apartment    202500.0               Married             NaN   \n",
       "286056  House / apartment    253737.0  Single / not married             NaN   \n",
       "75157   House / apartment    112500.0               Married        Laborers   \n",
       "...                   ...         ...                   ...             ...   \n",
       "187797       With parents    269550.0               Married     Sales staff   \n",
       "115479  House / apartment    592560.0               Married     Sales staff   \n",
       "172222  House / apartment    808650.0  Single / not married             NaN   \n",
       "276805  House / apartment    509400.0               Married             NaN   \n",
       "273109  House / apartment    234000.0               Married        Laborers   \n",
       "\n",
       "       CODE_GENDER            NAME_EDUCATION_TYPE   age  CNT_CHILDREN  TARGET  \\\n",
       "13209            M  Secondary / secondary special  34.0             0       0   \n",
       "287141           M  Secondary / secondary special  56.0             0       0   \n",
       "95937            F  Secondary / secondary special  60.0             0       0   \n",
       "286056           F  Secondary / secondary special  62.0             0       0   \n",
       "75157            M  Secondary / secondary special  33.0             1       0   \n",
       "...            ...                            ...   ...           ...     ...   \n",
       "187797           F  Secondary / secondary special  27.0             2       0   \n",
       "115479           F  Secondary / secondary special  32.0             3       0   \n",
       "172222           F  Secondary / secondary special  35.0             2       0   \n",
       "276805           M  Secondary / secondary special  30.0             0       0   \n",
       "273109           F  Secondary / secondary special  45.0             0       0   \n",
       "\n",
       "        AMT_INCOME_TOTAL  \n",
       "13209           225000.0  \n",
       "287141          202500.0  \n",
       "95937            67500.0  \n",
       "286056          157500.0  \n",
       "75157           112500.0  \n",
       "...                  ...  \n",
       "187797          135000.0  \n",
       "115479           90000.0  \n",
       "172222          135000.0  \n",
       "276805          247500.0  \n",
       "273109           90000.0  \n",
       "\n",
       "[61503 rows x 10 columns]"
      ]
     },
     "execution_count": 33,
     "metadata": {},
     "output_type": "execute_result"
    }
   ],
   "source": [
    "dftr_test = pd.concat([X_test,y_test], axis = 1)\n",
    "dftr_test"
   ]
  },
  {
   "cell_type": "code",
   "execution_count": 56,
   "metadata": {},
   "outputs": [
    {
     "ename": "NameError",
     "evalue": "name 'dftr_train' is not defined",
     "output_type": "error",
     "traceback": [
      "\u001b[0;31m---------------------------------------------------------------------------\u001b[0m",
      "\u001b[0;31mNameError\u001b[0m                                 Traceback (most recent call last)",
      "\u001b[0;32m<ipython-input-56-e5b80a7525c3>\u001b[0m in \u001b[0;36m<module>\u001b[0;34m\u001b[0m\n\u001b[0;32m----> 1\u001b[0;31m \u001b[0mlinear_model\u001b[0m \u001b[0;34m=\u001b[0m \u001b[0msmf\u001b[0m\u001b[0;34m.\u001b[0m\u001b[0mols\u001b[0m\u001b[0;34m(\u001b[0m\u001b[0mformula\u001b[0m\u001b[0;34m=\u001b[0m\u001b[0;34m'AMT_INCOME_TOTAL ~ C(CNT_CHILDREN)'\u001b[0m\u001b[0;34m,\u001b[0m \u001b[0mdata\u001b[0m\u001b[0;34m=\u001b[0m\u001b[0mdftr_train\u001b[0m\u001b[0;34m)\u001b[0m\u001b[0;34m.\u001b[0m\u001b[0mfit\u001b[0m\u001b[0;34m(\u001b[0m\u001b[0;34m)\u001b[0m\u001b[0;34m\u001b[0m\u001b[0;34m\u001b[0m\u001b[0m\n\u001b[0m\u001b[1;32m      2\u001b[0m \u001b[0;34m\u001b[0m\u001b[0m\n",
      "\u001b[0;31mNameError\u001b[0m: name 'dftr_train' is not defined"
     ]
    }
   ],
   "source": [
    "linear_model = smf.ols(formula='AMT_INCOME_TOTAL ~ C(CNT_CHILDREN)', data=dftr_train).fit()\n",
    "\n"
   ]
  },
  {
   "cell_type": "code",
   "execution_count": 20,
   "metadata": {},
   "outputs": [],
   "source": [
    "from sklearn.metrics import r2_score"
   ]
  },
  {
   "cell_type": "code",
   "execution_count": 21,
   "metadata": {},
   "outputs": [
    {
     "data": {
      "text/plain": [
       "Intercept                                               0.007572\n",
       "OCCUPATION_TYPE[T.Cleaning staff]                       0.030404\n",
       "OCCUPATION_TYPE[T.Cooking staff]                        0.037211\n",
       "OCCUPATION_TYPE[T.Core staff]                           0.010225\n",
       "OCCUPATION_TYPE[T.Drivers]                              0.050894\n",
       "OCCUPATION_TYPE[T.HR staff]                             0.018143\n",
       "OCCUPATION_TYPE[T.High skill tech staff]                0.006592\n",
       "OCCUPATION_TYPE[T.IT staff]                             0.008928\n",
       "OCCUPATION_TYPE[T.Laborers]                             0.042624\n",
       "OCCUPATION_TYPE[T.Low-skill Laborers]                   0.099537\n",
       "OCCUPATION_TYPE[T.Managers]                             0.013942\n",
       "OCCUPATION_TYPE[T.Medicine staff]                       0.004357\n",
       "OCCUPATION_TYPE[T.Private service staff]                0.005441\n",
       "OCCUPATION_TYPE[T.Realty agents]                        0.019275\n",
       "OCCUPATION_TYPE[T.Sales staff]                          0.033961\n",
       "OCCUPATION_TYPE[T.Secretaries]                          0.015362\n",
       "OCCUPATION_TYPE[T.Security staff]                       0.042699\n",
       "OCCUPATION_TYPE[T.Waiters/barmen staff]                 0.049573\n",
       "NAME_EDUCATION_TYPE[T.Higher education]                 0.045147\n",
       "NAME_EDUCATION_TYPE[T.Incomplete higher]                0.067262\n",
       "NAME_EDUCATION_TYPE[T.Lower secondary]                  0.101188\n",
       "NAME_EDUCATION_TYPE[T.Secondary / secondary special]    0.074260\n",
       "NAME_HOUSING_TYPE[T.House / apartment]                 -0.017777\n",
       "NAME_HOUSING_TYPE[T.Municipal apartment]               -0.015020\n",
       "NAME_HOUSING_TYPE[T.Office apartment]                  -0.036128\n",
       "NAME_HOUSING_TYPE[T.Rented apartment]                   0.017815\n",
       "NAME_HOUSING_TYPE[T.With parents]                       0.014727\n",
       "dtype: float64"
      ]
     },
     "execution_count": 21,
     "metadata": {},
     "output_type": "execute_result"
    }
   ],
   "source": [
    "linear_model.params"
   ]
  },
  {
   "cell_type": "code",
   "execution_count": 22,
   "metadata": {},
   "outputs": [],
   "source": [
    "y_test_pred = linear_model.predict(X_test)"
   ]
  },
  {
   "cell_type": "code",
   "execution_count": 23,
   "metadata": {},
   "outputs": [
    {
     "data": {
      "text/plain": [
       "162655    0.070647\n",
       "203078    0.101265\n",
       "165438    0.103151\n",
       "138950    0.069496\n",
       "19702          NaN\n",
       "            ...   \n",
       "88153     0.050304\n",
       "22970     0.106678\n",
       "162584    0.074280\n",
       "295832         NaN\n",
       "48604          NaN\n",
       "Length: 61503, dtype: float64"
      ]
     },
     "execution_count": 23,
     "metadata": {},
     "output_type": "execute_result"
    }
   ],
   "source": [
    "y_test_pred"
   ]
  },
  {
   "cell_type": "code",
   "execution_count": 24,
   "metadata": {},
   "outputs": [
    {
     "data": {
      "text/plain": [
       "162655    1\n",
       "203078    0\n",
       "165438    0\n",
       "138950    1\n",
       "19702     0\n",
       "         ..\n",
       "88153     0\n",
       "22970     0\n",
       "162584    0\n",
       "295832    0\n",
       "48604     0\n",
       "Name: TARGET, Length: 61503, dtype: int64"
      ]
     },
     "execution_count": 24,
     "metadata": {},
     "output_type": "execute_result"
    }
   ],
   "source": [
    "y_test"
   ]
  },
  {
   "cell_type": "code",
   "execution_count": 26,
   "metadata": {},
   "outputs": [],
   "source": [
    "# r2_score(y_test, y_test_pred)"
   ]
  },
  {
   "cell_type": "code",
   "execution_count": null,
   "metadata": {},
   "outputs": [],
   "source": []
  },
  {
   "cell_type": "code",
   "execution_count": null,
   "metadata": {},
   "outputs": [],
   "source": []
  },
  {
   "cell_type": "code",
   "execution_count": null,
   "metadata": {},
   "outputs": [],
   "source": []
  },
  {
   "cell_type": "code",
   "execution_count": 57,
   "metadata": {},
   "outputs": [
    {
     "data": {
      "text/plain": [
       "<AxesSubplot:xlabel='TARGET'>"
      ]
     },
     "execution_count": 57,
     "metadata": {},
     "output_type": "execute_result"
    },
    {
     "data": {
      "image/png": "[encoded data removed]",
      "text/plain": [
       "<Figure size 432x288 with 1 Axes>"
      ]
     },
     "metadata": {
      "needs_background": "light"
     },
     "output_type": "display_data"
    }
   ],
   "source": [
    "dftr.groupby('CODE_GENDER').TARGET.value_counts().unstack(0).plot.bar()"
   ]
  },
  {
   "cell_type": "code",
   "execution_count": 43,
   "metadata": {},
   "outputs": [
    {
     "data": {
      "text/plain": [
       "<AxesSubplot:xlabel='TARGET'>"
      ]
     },
     "execution_count": 43,
     "metadata": {},
     "output_type": "execute_result"
    },
    {
     "data": {
      "image/png": "[encoded data removed]",
      "text/plain": [
       "<Figure size 432x288 with 1 Axes>"
      ]
     },
     "metadata": {
      "needs_background": "light"
     },
     "output_type": "display_data"
    }
   ],
   "source": [
    "dftr.groupby('NAME_INCOME_TYPE').TARGET.value_counts().unstack(0).plot.bar()"
   ]
  },
  {
   "cell_type": "code",
   "execution_count": 85,
   "metadata": {},
   "outputs": [
    {
     "data": {
      "image/png": "[encoded data removed]",
      "text/plain": [
       "<Figure size 720x576 with 1 Axes>"
      ]
     },
     "metadata": {
      "needs_background": "light"
     },
     "output_type": "display_data"
    }
   ],
   "source": [
    "plt.figure(figsize = (10, 8))\n",
    "\n",
    "# KDE plot of loans that were repaid on time\n",
    "sns.kdeplot(dftr.loc[dftr['TARGET'] == 0, 'age'], label = 'target == 0')\n",
    "\n",
    "# KDE plot of loans which were not repaid on time\n",
    "sns.kdeplot(dftr.loc[dftr['TARGET'] == 1, 'age'], label = 'target == 1')\n",
    "\n",
    "# Labeling of plot\n",
    "plt.xlabel('Age (years)'); plt.ylabel('Density'); plt.title('Distribution of Ages');\n"
   ]
  },
  {
   "cell_type": "code",
   "execution_count": 76,
   "metadata": {},
   "outputs": [
    {
     "data": {
      "text/plain": [
       "<AxesSubplot:xlabel='NAME_HOUSING_TYPE', ylabel='count'>"
      ]
     },
     "execution_count": 76,
     "metadata": {},
     "output_type": "execute_result"
    },
    {
     "data": {
      "image/png": "[encoded data removed]",
      "text/plain": [
       "<Figure size 792x576 with 1 Axes>"
      ]
     },
     "metadata": {},
     "output_type": "display_data"
    }
   ],
   "source": [
    "sns.set(rc={'figure.figsize': (11, 8)})\n",
    "sns.set_style(style=\"ticks\")\n",
    "sns.countplot(x=\"NAME_HOUSING_TYPE\", data=dftr, order=dftr['NAME_HOUSING_TYPE'].value_counts().sort_values(ascending=False).index)"
   ]
  },
  {
   "cell_type": "code",
   "execution_count": 68,
   "metadata": {},
   "outputs": [
    {
     "data": {
      "image/png": "[encoded data removed]",
      "text/plain": [
       "<Figure size 2244.75x1080 with 2 Axes>"
      ]
     },
     "metadata": {},
     "output_type": "display_data"
    }
   ],
   "source": [
    "g = sns.catplot(x=\"NAME_FAMILY_STATUS\", hue=\"CODE_GENDER\", col=\"TARGET\",\n",
    "                data=dftr,palette=\"Set2\",kind=\"count\",\n",
    "                height=15, aspect=1)"
   ]
  },
  {
   "cell_type": "code",
   "execution_count": 90,
   "metadata": {},
   "outputs": [
    {
     "data": {
      "image/png": "[encoded data removed]",
      "text/plain": [
       "<Figure size 2261.43x1080 with 2 Axes>"
      ]
     },
     "metadata": {},
     "output_type": "display_data"
    }
   ],
   "source": [
    "g = sns.catplot(x=\"NAME_EDUCATION_TYPE\", hue=\"CODE_GENDER\", col=\"TARGET\",\n",
    "                data=dftr,palette=\"Set2\",kind=\"count\",\n",
    "                height=15, aspect=1)"
   ]
  },
  {
   "cell_type": "code",
   "execution_count": 80,
   "metadata": {},
   "outputs": [
    {
     "data": {
      "text/plain": [
       "<AxesSubplot:xlabel='NAME_EDUCATION_TYPE', ylabel='count'>"
      ]
     },
     "execution_count": 80,
     "metadata": {},
     "output_type": "execute_result"
    },
    {
     "data": {
      "image/png": "[encoded data removed]",
      "text/plain": [
       "<Figure size 792x576 with 1 Axes>"
      ]
     },
     "metadata": {},
     "output_type": "display_data"
    }
   ],
   "source": [
    "sns.set(rc={'figure.figsize': (11, 8)})\n",
    "sns.set_style(style=\"ticks\")\n",
    "sns.countplot(x=\"NAME_EDUCATION_TYPE\",hue=\"CODE_GENDER\", data=dftr, order=dftr['NAME_EDUCATION_TYPE'].value_counts().sort_values(ascending=False).index)"
   ]
  },
  {
   "cell_type": "code",
   "execution_count": 89,
   "metadata": {},
   "outputs": [
    {
     "data": {
      "text/plain": [
       "<AxesSubplot:xlabel='TARGET'>"
      ]
     },
     "execution_count": 89,
     "metadata": {},
     "output_type": "execute_result"
    },
    {
     "data": {
      "image/png": "[encoded data removed]",
      "text/plain": [
       "<Figure size 792x576 with 1 Axes>"
      ]
     },
     "metadata": {},
     "output_type": "display_data"
    }
   ],
   "source": [
    "dftr.groupby('CNT_CHILDREN').TARGET.value_counts().unstack(0).plot.bar()"
   ]
  },
  {
   "cell_type": "code",
   "execution_count": 100,
   "metadata": {},
   "outputs": [
    {
     "data": {
      "image/png": "[encoded data removed]",
      "text/plain": [
       "<Figure size 792x576 with 1 Axes>"
      ]
     },
     "metadata": {},
     "output_type": "display_data"
    }
   ],
   "source": [
    "ax=sns.countplot(y=\"FLAG_OWN_REALTY\", hue='TARGET', data=dftr,palette=\"Set2\")\n",
    "plt.title('Distribution of  Configurations')\n",
    "plt.xlabel('Number of Axles')\n",
    "\n",
    "total = len(dftr['FLAG_OWN_REALTY'])\n",
    "for p in ax.patches:\n",
    "        percentage = '{:.1f}%'.format(100 * p.get_width()/total)\n",
    "        x = p.get_x() + p.get_width() + 0.02\n",
    "        y = p.get_y() + p.get_height()/2\n",
    "        ax.annotate(percentage, (x, y))\n",
    "\n",
    "plt.show()"
   ]
  },
  {
   "cell_type": "code",
   "execution_count": 102,
   "metadata": {},
   "outputs": [
    {
     "data": {
      "image/png": "[encoded data removed]",
      "text/plain": [
       "<Figure size 792x576 with 1 Axes>"
      ]
     },
     "metadata": {},
     "output_type": "display_data"
    }
   ],
   "source": [
    "ax=sns.countplot(y=\"FLAG_OWN_CAR\", hue='TARGET', data=dftr,palette=\"Paired\")\n",
    "plt.title('Distribution of  Configurations')\n",
    "plt.xlabel('Number of Axles')\n",
    "\n",
    "total = len(dftr['FLAG_OWN_REALTY'])\n",
    "for p in ax.patches:\n",
    "        percentage = '{:.1f}%'.format(100 * p.get_width()/total)\n",
    "        x = p.get_x() + p.get_width() + 0.02\n",
    "        y = p.get_y() + p.get_height()/2\n",
    "        ax.annotate(percentage, (x, y))\n",
    "\n",
    "plt.show()"
   ]
  },
  {
   "cell_type": "code",
   "execution_count": 115,
   "metadata": {},
   "outputs": [
    {
     "ename": "SyntaxError",
     "evalue": "invalid syntax (<ipython-input-115-01611f76a69b>, line 6)",
     "output_type": "error",
     "traceback": [
      "\u001b[0;36m  File \u001b[0;32m\"<ipython-input-115-01611f76a69b>\"\u001b[0;36m, line \u001b[0;32m6\u001b[0m\n\u001b[0;31m    sns.barplot(x=\"ORGANIZATION_TYPE\", hue=\"TARGET\", data=dftr, palette = 'bright')\u001b[0m\n\u001b[0m      ^\u001b[0m\n\u001b[0;31mSyntaxError\u001b[0m\u001b[0;31m:\u001b[0m invalid syntax\n"
     ]
    }
   ],
   "source": [
    "plt.figure(figsize=(18,6))\n",
    "plt.subplot(1,2,1)\n",
    "Pemail = (dftr[~dftr['ORGANIZATION_TYPE'].isnull()].groupby(['TARGET'])['ORGANIZATION_TYPE'].value_counts(normalize=True)\n",
    "\n",
    "\n",
    "sns.barplot(x=\"ORGANIZATION_TYPE\", hue=\"TARGET\", data=dftr, palette = 'bright')\n",
    "plt.xticks(rotation=100)"
   ]
  },
  {
   "cell_type": "code",
   "execution_count": null,
   "metadata": {},
   "outputs": [],
   "source": []
  }
 ],
 "metadata": {
  "kernelspec": {
   "display_name": "Python 3",
   "language": "python",
   "name": "python3"
  },
  "language_info": {
   "codemirror_mode": {
    "name": "ipython",
    "version": 3
   },
   "file_extension": ".py",
   "mimetype": "text/x-python",
   "name": "python",
   "nbconvert_exporter": "python",
   "pygments_lexer": "ipython3",
   "version": "3.7.7"
  }
 },
 "nbformat": 4,
 "nbformat_minor": 4
}
